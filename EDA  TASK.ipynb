{
 "cells": [
  {
   "cell_type": "markdown",
   "id": "617745ab",
   "metadata": {},
   "source": [
    "#    EDA on Algerian Forest Fire Dataset"
   ]
  },
  {
   "cell_type": "markdown",
   "id": "cf1a588d",
   "metadata": {},
   "source": [
    "# Importing required library"
   ]
  },
  {
   "cell_type": "code",
   "execution_count": 1,
   "id": "99b21c3f",
   "metadata": {},
   "outputs": [],
   "source": [
    "import pandas as pd\n",
    "import numpy as np\n",
    "import matplotlib.pyplot as plt\n",
    "import seaborn as sns\n",
    "import warnings\n",
    "%matplotlib inline\n",
    "warnings.filterwarnings(\"ignore\")"
   ]
  },
  {
   "cell_type": "markdown",
   "id": "0c219e11",
   "metadata": {},
   "source": [
    "# Importing Algerian_Forest_fires_dataset using pandas library"
   ]
  },
  {
   "cell_type": "code",
   "execution_count": 4,
   "id": "eeda4366",
   "metadata": {},
   "outputs": [
    {
     "data": {
      "text/html": [
       "<div>\n",
       "<style scoped>\n",
       "    .dataframe tbody tr th:only-of-type {\n",
       "        vertical-align: middle;\n",
       "    }\n",
       "\n",
       "    .dataframe tbody tr th {\n",
       "        vertical-align: top;\n",
       "    }\n",
       "\n",
       "    .dataframe thead th {\n",
       "        text-align: right;\n",
       "    }\n",
       "</style>\n",
       "<table border=\"1\" class=\"dataframe\">\n",
       "  <thead>\n",
       "    <tr style=\"text-align: right;\">\n",
       "      <th></th>\n",
       "      <th>day</th>\n",
       "      <th>month</th>\n",
       "      <th>year</th>\n",
       "      <th>Temperature</th>\n",
       "      <th>RH</th>\n",
       "      <th>Ws</th>\n",
       "      <th>Rain</th>\n",
       "      <th>FFMC</th>\n",
       "      <th>DMC</th>\n",
       "      <th>DC</th>\n",
       "      <th>ISI</th>\n",
       "      <th>BUI</th>\n",
       "      <th>FWI</th>\n",
       "      <th>Classes</th>\n",
       "    </tr>\n",
       "  </thead>\n",
       "  <tbody>\n",
       "    <tr>\n",
       "      <th>0</th>\n",
       "      <td>01</td>\n",
       "      <td>06</td>\n",
       "      <td>2012</td>\n",
       "      <td>29</td>\n",
       "      <td>57</td>\n",
       "      <td>18</td>\n",
       "      <td>0</td>\n",
       "      <td>65.7</td>\n",
       "      <td>3.4</td>\n",
       "      <td>7.6</td>\n",
       "      <td>1.3</td>\n",
       "      <td>3.4</td>\n",
       "      <td>0.5</td>\n",
       "      <td>not fire</td>\n",
       "    </tr>\n",
       "    <tr>\n",
       "      <th>1</th>\n",
       "      <td>02</td>\n",
       "      <td>06</td>\n",
       "      <td>2012</td>\n",
       "      <td>29</td>\n",
       "      <td>61</td>\n",
       "      <td>13</td>\n",
       "      <td>1.3</td>\n",
       "      <td>64.4</td>\n",
       "      <td>4.1</td>\n",
       "      <td>7.6</td>\n",
       "      <td>1</td>\n",
       "      <td>3.9</td>\n",
       "      <td>0.4</td>\n",
       "      <td>not fire</td>\n",
       "    </tr>\n",
       "    <tr>\n",
       "      <th>2</th>\n",
       "      <td>03</td>\n",
       "      <td>06</td>\n",
       "      <td>2012</td>\n",
       "      <td>26</td>\n",
       "      <td>82</td>\n",
       "      <td>22</td>\n",
       "      <td>13.1</td>\n",
       "      <td>47.1</td>\n",
       "      <td>2.5</td>\n",
       "      <td>7.1</td>\n",
       "      <td>0.3</td>\n",
       "      <td>2.7</td>\n",
       "      <td>0.1</td>\n",
       "      <td>not fire</td>\n",
       "    </tr>\n",
       "    <tr>\n",
       "      <th>3</th>\n",
       "      <td>04</td>\n",
       "      <td>06</td>\n",
       "      <td>2012</td>\n",
       "      <td>25</td>\n",
       "      <td>89</td>\n",
       "      <td>13</td>\n",
       "      <td>2.5</td>\n",
       "      <td>28.6</td>\n",
       "      <td>1.3</td>\n",
       "      <td>6.9</td>\n",
       "      <td>0</td>\n",
       "      <td>1.7</td>\n",
       "      <td>0</td>\n",
       "      <td>not fire</td>\n",
       "    </tr>\n",
       "    <tr>\n",
       "      <th>4</th>\n",
       "      <td>05</td>\n",
       "      <td>06</td>\n",
       "      <td>2012</td>\n",
       "      <td>27</td>\n",
       "      <td>77</td>\n",
       "      <td>16</td>\n",
       "      <td>0</td>\n",
       "      <td>64.8</td>\n",
       "      <td>3</td>\n",
       "      <td>14.2</td>\n",
       "      <td>1.2</td>\n",
       "      <td>3.9</td>\n",
       "      <td>0.5</td>\n",
       "      <td>not fire</td>\n",
       "    </tr>\n",
       "    <tr>\n",
       "      <th>...</th>\n",
       "      <td>...</td>\n",
       "      <td>...</td>\n",
       "      <td>...</td>\n",
       "      <td>...</td>\n",
       "      <td>...</td>\n",
       "      <td>...</td>\n",
       "      <td>...</td>\n",
       "      <td>...</td>\n",
       "      <td>...</td>\n",
       "      <td>...</td>\n",
       "      <td>...</td>\n",
       "      <td>...</td>\n",
       "      <td>...</td>\n",
       "      <td>...</td>\n",
       "    </tr>\n",
       "    <tr>\n",
       "      <th>241</th>\n",
       "      <td>26</td>\n",
       "      <td>09</td>\n",
       "      <td>2012</td>\n",
       "      <td>30</td>\n",
       "      <td>65</td>\n",
       "      <td>14</td>\n",
       "      <td>0</td>\n",
       "      <td>85.4</td>\n",
       "      <td>16</td>\n",
       "      <td>44.5</td>\n",
       "      <td>4.5</td>\n",
       "      <td>16.9</td>\n",
       "      <td>6.5</td>\n",
       "      <td>fire</td>\n",
       "    </tr>\n",
       "    <tr>\n",
       "      <th>242</th>\n",
       "      <td>27</td>\n",
       "      <td>09</td>\n",
       "      <td>2012</td>\n",
       "      <td>28</td>\n",
       "      <td>87</td>\n",
       "      <td>15</td>\n",
       "      <td>4.4</td>\n",
       "      <td>41.1</td>\n",
       "      <td>6.5</td>\n",
       "      <td>8</td>\n",
       "      <td>0.1</td>\n",
       "      <td>6.2</td>\n",
       "      <td>0</td>\n",
       "      <td>not fire</td>\n",
       "    </tr>\n",
       "    <tr>\n",
       "      <th>243</th>\n",
       "      <td>28</td>\n",
       "      <td>09</td>\n",
       "      <td>2012</td>\n",
       "      <td>27</td>\n",
       "      <td>87</td>\n",
       "      <td>29</td>\n",
       "      <td>0.5</td>\n",
       "      <td>45.9</td>\n",
       "      <td>3.5</td>\n",
       "      <td>7.9</td>\n",
       "      <td>0.4</td>\n",
       "      <td>3.4</td>\n",
       "      <td>0.2</td>\n",
       "      <td>not fire</td>\n",
       "    </tr>\n",
       "    <tr>\n",
       "      <th>244</th>\n",
       "      <td>29</td>\n",
       "      <td>09</td>\n",
       "      <td>2012</td>\n",
       "      <td>24</td>\n",
       "      <td>54</td>\n",
       "      <td>18</td>\n",
       "      <td>0.1</td>\n",
       "      <td>79.7</td>\n",
       "      <td>4.3</td>\n",
       "      <td>15.2</td>\n",
       "      <td>1.7</td>\n",
       "      <td>5.1</td>\n",
       "      <td>0.7</td>\n",
       "      <td>not fire</td>\n",
       "    </tr>\n",
       "    <tr>\n",
       "      <th>245</th>\n",
       "      <td>30</td>\n",
       "      <td>09</td>\n",
       "      <td>2012</td>\n",
       "      <td>24</td>\n",
       "      <td>64</td>\n",
       "      <td>15</td>\n",
       "      <td>0.2</td>\n",
       "      <td>67.3</td>\n",
       "      <td>3.8</td>\n",
       "      <td>16.5</td>\n",
       "      <td>1.2</td>\n",
       "      <td>4.8</td>\n",
       "      <td>0.5</td>\n",
       "      <td>not fire</td>\n",
       "    </tr>\n",
       "  </tbody>\n",
       "</table>\n",
       "<p>246 rows × 14 columns</p>\n",
       "</div>"
      ],
      "text/plain": [
       "    day month  year Temperature  RH  Ws Rain   FFMC  DMC    DC  ISI   BUI  \\\n",
       "0    01    06  2012          29  57  18     0  65.7  3.4   7.6  1.3   3.4   \n",
       "1    02    06  2012          29  61  13   1.3  64.4  4.1   7.6    1   3.9   \n",
       "2    03    06  2012          26  82  22  13.1  47.1  2.5   7.1  0.3   2.7   \n",
       "3    04    06  2012          25  89  13   2.5  28.6  1.3   6.9    0   1.7   \n",
       "4    05    06  2012          27  77  16     0  64.8    3  14.2  1.2   3.9   \n",
       "..   ..   ...   ...         ...  ..  ..   ...   ...  ...   ...  ...   ...   \n",
       "241  26    09  2012          30  65  14     0  85.4   16  44.5  4.5  16.9   \n",
       "242  27    09  2012          28  87  15   4.4  41.1  6.5     8  0.1   6.2   \n",
       "243  28    09  2012          27  87  29   0.5  45.9  3.5   7.9  0.4   3.4   \n",
       "244  29    09  2012          24  54  18   0.1  79.7  4.3  15.2  1.7   5.1   \n",
       "245  30    09  2012          24  64  15   0.2  67.3  3.8  16.5  1.2   4.8   \n",
       "\n",
       "     FWI     Classes    \n",
       "0    0.5   not fire     \n",
       "1    0.4   not fire     \n",
       "2    0.1   not fire     \n",
       "3      0   not fire     \n",
       "4    0.5   not fire     \n",
       "..   ...           ...  \n",
       "241  6.5       fire     \n",
       "242    0   not fire     \n",
       "243  0.2   not fire     \n",
       "244  0.7   not fire     \n",
       "245  0.5  not fire      \n",
       "\n",
       "[246 rows x 14 columns]"
      ]
     },
     "execution_count": 4,
     "metadata": {},
     "output_type": "execute_result"
    }
   ],
   "source": [
    "pd.read_csv(\"Algerian_forest_fires_dataset_UPDATE.csv\",header=1)"
   ]
  },
  {
   "cell_type": "code",
   "execution_count": 5,
   "id": "65de0031",
   "metadata": {},
   "outputs": [],
   "source": [
    "df=pd.read_csv(\"Algerian_forest_fires_dataset_UPDATE.csv\",header=1)"
   ]
  },
  {
   "cell_type": "code",
   "execution_count": 6,
   "id": "186ca7de",
   "metadata": {},
   "outputs": [
    {
     "data": {
      "text/html": [
       "<div>\n",
       "<style scoped>\n",
       "    .dataframe tbody tr th:only-of-type {\n",
       "        vertical-align: middle;\n",
       "    }\n",
       "\n",
       "    .dataframe tbody tr th {\n",
       "        vertical-align: top;\n",
       "    }\n",
       "\n",
       "    .dataframe thead th {\n",
       "        text-align: right;\n",
       "    }\n",
       "</style>\n",
       "<table border=\"1\" class=\"dataframe\">\n",
       "  <thead>\n",
       "    <tr style=\"text-align: right;\">\n",
       "      <th></th>\n",
       "      <th>day</th>\n",
       "      <th>month</th>\n",
       "      <th>year</th>\n",
       "      <th>Temperature</th>\n",
       "      <th>RH</th>\n",
       "      <th>Ws</th>\n",
       "      <th>Rain</th>\n",
       "      <th>FFMC</th>\n",
       "      <th>DMC</th>\n",
       "      <th>DC</th>\n",
       "      <th>ISI</th>\n",
       "      <th>BUI</th>\n",
       "      <th>FWI</th>\n",
       "      <th>Classes</th>\n",
       "    </tr>\n",
       "  </thead>\n",
       "  <tbody>\n",
       "    <tr>\n",
       "      <th>121</th>\n",
       "      <td>30</td>\n",
       "      <td>09</td>\n",
       "      <td>2012</td>\n",
       "      <td>25</td>\n",
       "      <td>78</td>\n",
       "      <td>14</td>\n",
       "      <td>1.4</td>\n",
       "      <td>45</td>\n",
       "      <td>1.9</td>\n",
       "      <td>7.5</td>\n",
       "      <td>0.2</td>\n",
       "      <td>2.4</td>\n",
       "      <td>0.1</td>\n",
       "      <td>not fire</td>\n",
       "    </tr>\n",
       "    <tr>\n",
       "      <th>122</th>\n",
       "      <td>Sidi-Bel Abbes Region Dataset</td>\n",
       "      <td>NaN</td>\n",
       "      <td>NaN</td>\n",
       "      <td>NaN</td>\n",
       "      <td>NaN</td>\n",
       "      <td>NaN</td>\n",
       "      <td>NaN</td>\n",
       "      <td>NaN</td>\n",
       "      <td>NaN</td>\n",
       "      <td>NaN</td>\n",
       "      <td>NaN</td>\n",
       "      <td>NaN</td>\n",
       "      <td>NaN</td>\n",
       "      <td>NaN</td>\n",
       "    </tr>\n",
       "    <tr>\n",
       "      <th>123</th>\n",
       "      <td>day</td>\n",
       "      <td>month</td>\n",
       "      <td>year</td>\n",
       "      <td>Temperature</td>\n",
       "      <td>RH</td>\n",
       "      <td>Ws</td>\n",
       "      <td>Rain</td>\n",
       "      <td>FFMC</td>\n",
       "      <td>DMC</td>\n",
       "      <td>DC</td>\n",
       "      <td>ISI</td>\n",
       "      <td>BUI</td>\n",
       "      <td>FWI</td>\n",
       "      <td>Classes</td>\n",
       "    </tr>\n",
       "    <tr>\n",
       "      <th>124</th>\n",
       "      <td>01</td>\n",
       "      <td>06</td>\n",
       "      <td>2012</td>\n",
       "      <td>32</td>\n",
       "      <td>71</td>\n",
       "      <td>12</td>\n",
       "      <td>0.7</td>\n",
       "      <td>57.1</td>\n",
       "      <td>2.5</td>\n",
       "      <td>8.2</td>\n",
       "      <td>0.6</td>\n",
       "      <td>2.8</td>\n",
       "      <td>0.2</td>\n",
       "      <td>not fire</td>\n",
       "    </tr>\n",
       "  </tbody>\n",
       "</table>\n",
       "</div>"
      ],
      "text/plain": [
       "                               day  month  year  Temperature   RH   Ws  Rain   \\\n",
       "121                             30     09  2012           25   78   14    1.4   \n",
       "122  Sidi-Bel Abbes Region Dataset    NaN   NaN          NaN  NaN  NaN    NaN   \n",
       "123                            day  month  year  Temperature   RH   Ws  Rain    \n",
       "124                             01     06  2012           32   71   12    0.7   \n",
       "\n",
       "     FFMC  DMC   DC  ISI  BUI  FWI    Classes    \n",
       "121    45  1.9  7.5  0.2  2.4  0.1  not fire     \n",
       "122   NaN  NaN  NaN  NaN  NaN  NaN          NaN  \n",
       "123  FFMC  DMC   DC  ISI  BUI  FWI    Classes    \n",
       "124  57.1  2.5  8.2  0.6  2.8  0.2  not fire     "
      ]
     },
     "execution_count": 6,
     "metadata": {},
     "output_type": "execute_result"
    }
   ],
   "source": [
    "df.iloc[121:].head(4)"
   ]
  },
  {
   "cell_type": "code",
   "execution_count": 8,
   "id": "2fcd295b",
   "metadata": {},
   "outputs": [],
   "source": [
    "df.drop(index=[122,123],inplace=True)"
   ]
  },
  {
   "cell_type": "code",
   "execution_count": 9,
   "id": "dd4e5d16",
   "metadata": {},
   "outputs": [
    {
     "data": {
      "text/html": [
       "<div>\n",
       "<style scoped>\n",
       "    .dataframe tbody tr th:only-of-type {\n",
       "        vertical-align: middle;\n",
       "    }\n",
       "\n",
       "    .dataframe tbody tr th {\n",
       "        vertical-align: top;\n",
       "    }\n",
       "\n",
       "    .dataframe thead th {\n",
       "        text-align: right;\n",
       "    }\n",
       "</style>\n",
       "<table border=\"1\" class=\"dataframe\">\n",
       "  <thead>\n",
       "    <tr style=\"text-align: right;\">\n",
       "      <th></th>\n",
       "      <th>day</th>\n",
       "      <th>month</th>\n",
       "      <th>year</th>\n",
       "      <th>Temperature</th>\n",
       "      <th>RH</th>\n",
       "      <th>Ws</th>\n",
       "      <th>Rain</th>\n",
       "      <th>FFMC</th>\n",
       "      <th>DMC</th>\n",
       "      <th>DC</th>\n",
       "      <th>ISI</th>\n",
       "      <th>BUI</th>\n",
       "      <th>FWI</th>\n",
       "      <th>Classes</th>\n",
       "    </tr>\n",
       "  </thead>\n",
       "  <tbody>\n",
       "    <tr>\n",
       "      <th>121</th>\n",
       "      <td>30</td>\n",
       "      <td>09</td>\n",
       "      <td>2012</td>\n",
       "      <td>25</td>\n",
       "      <td>78</td>\n",
       "      <td>14</td>\n",
       "      <td>1.4</td>\n",
       "      <td>45</td>\n",
       "      <td>1.9</td>\n",
       "      <td>7.5</td>\n",
       "      <td>0.2</td>\n",
       "      <td>2.4</td>\n",
       "      <td>0.1</td>\n",
       "      <td>not fire</td>\n",
       "    </tr>\n",
       "    <tr>\n",
       "      <th>124</th>\n",
       "      <td>01</td>\n",
       "      <td>06</td>\n",
       "      <td>2012</td>\n",
       "      <td>32</td>\n",
       "      <td>71</td>\n",
       "      <td>12</td>\n",
       "      <td>0.7</td>\n",
       "      <td>57.1</td>\n",
       "      <td>2.5</td>\n",
       "      <td>8.2</td>\n",
       "      <td>0.6</td>\n",
       "      <td>2.8</td>\n",
       "      <td>0.2</td>\n",
       "      <td>not fire</td>\n",
       "    </tr>\n",
       "    <tr>\n",
       "      <th>125</th>\n",
       "      <td>02</td>\n",
       "      <td>06</td>\n",
       "      <td>2012</td>\n",
       "      <td>30</td>\n",
       "      <td>73</td>\n",
       "      <td>13</td>\n",
       "      <td>4</td>\n",
       "      <td>55.7</td>\n",
       "      <td>2.7</td>\n",
       "      <td>7.8</td>\n",
       "      <td>0.6</td>\n",
       "      <td>2.9</td>\n",
       "      <td>0.2</td>\n",
       "      <td>not fire</td>\n",
       "    </tr>\n",
       "    <tr>\n",
       "      <th>126</th>\n",
       "      <td>03</td>\n",
       "      <td>06</td>\n",
       "      <td>2012</td>\n",
       "      <td>29</td>\n",
       "      <td>80</td>\n",
       "      <td>14</td>\n",
       "      <td>2</td>\n",
       "      <td>48.7</td>\n",
       "      <td>2.2</td>\n",
       "      <td>7.6</td>\n",
       "      <td>0.3</td>\n",
       "      <td>2.6</td>\n",
       "      <td>0.1</td>\n",
       "      <td>not fire</td>\n",
       "    </tr>\n",
       "  </tbody>\n",
       "</table>\n",
       "</div>"
      ],
      "text/plain": [
       "    day month  year Temperature  RH  Ws Rain   FFMC  DMC   DC  ISI  BUI  FWI  \\\n",
       "121  30    09  2012          25  78  14   1.4    45  1.9  7.5  0.2  2.4  0.1   \n",
       "124  01    06  2012          32  71  12   0.7  57.1  2.5  8.2  0.6  2.8  0.2   \n",
       "125  02    06  2012          30  73  13     4  55.7  2.7  7.8  0.6  2.9  0.2   \n",
       "126  03    06  2012          29  80  14     2  48.7  2.2  7.6  0.3  2.6  0.1   \n",
       "\n",
       "       Classes    \n",
       "121  not fire     \n",
       "124  not fire     \n",
       "125  not fire     \n",
       "126  not fire     "
      ]
     },
     "execution_count": 9,
     "metadata": {},
     "output_type": "execute_result"
    }
   ],
   "source": [
    "df.iloc[121:].head(4)"
   ]
  },
  {
   "cell_type": "code",
   "execution_count": 10,
   "id": "5ed5e5e0",
   "metadata": {},
   "outputs": [],
   "source": [
    "df.reset_index(inplace=True)"
   ]
  },
  {
   "cell_type": "code",
   "execution_count": 11,
   "id": "8d65d494",
   "metadata": {},
   "outputs": [
    {
     "data": {
      "text/html": [
       "<div>\n",
       "<style scoped>\n",
       "    .dataframe tbody tr th:only-of-type {\n",
       "        vertical-align: middle;\n",
       "    }\n",
       "\n",
       "    .dataframe tbody tr th {\n",
       "        vertical-align: top;\n",
       "    }\n",
       "\n",
       "    .dataframe thead th {\n",
       "        text-align: right;\n",
       "    }\n",
       "</style>\n",
       "<table border=\"1\" class=\"dataframe\">\n",
       "  <thead>\n",
       "    <tr style=\"text-align: right;\">\n",
       "      <th></th>\n",
       "      <th>index</th>\n",
       "      <th>day</th>\n",
       "      <th>month</th>\n",
       "      <th>year</th>\n",
       "      <th>Temperature</th>\n",
       "      <th>RH</th>\n",
       "      <th>Ws</th>\n",
       "      <th>Rain</th>\n",
       "      <th>FFMC</th>\n",
       "      <th>DMC</th>\n",
       "      <th>DC</th>\n",
       "      <th>ISI</th>\n",
       "      <th>BUI</th>\n",
       "      <th>FWI</th>\n",
       "      <th>Classes</th>\n",
       "    </tr>\n",
       "  </thead>\n",
       "  <tbody>\n",
       "    <tr>\n",
       "      <th>121</th>\n",
       "      <td>121</td>\n",
       "      <td>30</td>\n",
       "      <td>09</td>\n",
       "      <td>2012</td>\n",
       "      <td>25</td>\n",
       "      <td>78</td>\n",
       "      <td>14</td>\n",
       "      <td>1.4</td>\n",
       "      <td>45</td>\n",
       "      <td>1.9</td>\n",
       "      <td>7.5</td>\n",
       "      <td>0.2</td>\n",
       "      <td>2.4</td>\n",
       "      <td>0.1</td>\n",
       "      <td>not fire</td>\n",
       "    </tr>\n",
       "    <tr>\n",
       "      <th>122</th>\n",
       "      <td>124</td>\n",
       "      <td>01</td>\n",
       "      <td>06</td>\n",
       "      <td>2012</td>\n",
       "      <td>32</td>\n",
       "      <td>71</td>\n",
       "      <td>12</td>\n",
       "      <td>0.7</td>\n",
       "      <td>57.1</td>\n",
       "      <td>2.5</td>\n",
       "      <td>8.2</td>\n",
       "      <td>0.6</td>\n",
       "      <td>2.8</td>\n",
       "      <td>0.2</td>\n",
       "      <td>not fire</td>\n",
       "    </tr>\n",
       "    <tr>\n",
       "      <th>123</th>\n",
       "      <td>125</td>\n",
       "      <td>02</td>\n",
       "      <td>06</td>\n",
       "      <td>2012</td>\n",
       "      <td>30</td>\n",
       "      <td>73</td>\n",
       "      <td>13</td>\n",
       "      <td>4</td>\n",
       "      <td>55.7</td>\n",
       "      <td>2.7</td>\n",
       "      <td>7.8</td>\n",
       "      <td>0.6</td>\n",
       "      <td>2.9</td>\n",
       "      <td>0.2</td>\n",
       "      <td>not fire</td>\n",
       "    </tr>\n",
       "    <tr>\n",
       "      <th>124</th>\n",
       "      <td>126</td>\n",
       "      <td>03</td>\n",
       "      <td>06</td>\n",
       "      <td>2012</td>\n",
       "      <td>29</td>\n",
       "      <td>80</td>\n",
       "      <td>14</td>\n",
       "      <td>2</td>\n",
       "      <td>48.7</td>\n",
       "      <td>2.2</td>\n",
       "      <td>7.6</td>\n",
       "      <td>0.3</td>\n",
       "      <td>2.6</td>\n",
       "      <td>0.1</td>\n",
       "      <td>not fire</td>\n",
       "    </tr>\n",
       "  </tbody>\n",
       "</table>\n",
       "</div>"
      ],
      "text/plain": [
       "     index day month  year Temperature  RH  Ws Rain   FFMC  DMC   DC  ISI  \\\n",
       "121    121  30    09  2012          25  78  14   1.4    45  1.9  7.5  0.2   \n",
       "122    124  01    06  2012          32  71  12   0.7  57.1  2.5  8.2  0.6   \n",
       "123    125  02    06  2012          30  73  13     4  55.7  2.7  7.8  0.6   \n",
       "124    126  03    06  2012          29  80  14     2  48.7  2.2  7.6  0.3   \n",
       "\n",
       "     BUI  FWI    Classes    \n",
       "121  2.4  0.1  not fire     \n",
       "122  2.8  0.2  not fire     \n",
       "123  2.9  0.2  not fire     \n",
       "124  2.6  0.1  not fire     "
      ]
     },
     "execution_count": 11,
     "metadata": {},
     "output_type": "execute_result"
    }
   ],
   "source": [
    "df.iloc[121:].head(4)"
   ]
  },
  {
   "cell_type": "code",
   "execution_count": 12,
   "id": "ea95f084",
   "metadata": {},
   "outputs": [],
   "source": [
    "df.drop('index',axis=1,inplace=True)"
   ]
  },
  {
   "cell_type": "code",
   "execution_count": 13,
   "id": "5595547a",
   "metadata": {},
   "outputs": [
    {
     "data": {
      "text/html": [
       "<div>\n",
       "<style scoped>\n",
       "    .dataframe tbody tr th:only-of-type {\n",
       "        vertical-align: middle;\n",
       "    }\n",
       "\n",
       "    .dataframe tbody tr th {\n",
       "        vertical-align: top;\n",
       "    }\n",
       "\n",
       "    .dataframe thead th {\n",
       "        text-align: right;\n",
       "    }\n",
       "</style>\n",
       "<table border=\"1\" class=\"dataframe\">\n",
       "  <thead>\n",
       "    <tr style=\"text-align: right;\">\n",
       "      <th></th>\n",
       "      <th>day</th>\n",
       "      <th>month</th>\n",
       "      <th>year</th>\n",
       "      <th>Temperature</th>\n",
       "      <th>RH</th>\n",
       "      <th>Ws</th>\n",
       "      <th>Rain</th>\n",
       "      <th>FFMC</th>\n",
       "      <th>DMC</th>\n",
       "      <th>DC</th>\n",
       "      <th>ISI</th>\n",
       "      <th>BUI</th>\n",
       "      <th>FWI</th>\n",
       "      <th>Classes</th>\n",
       "    </tr>\n",
       "  </thead>\n",
       "  <tbody>\n",
       "    <tr>\n",
       "      <th>121</th>\n",
       "      <td>30</td>\n",
       "      <td>09</td>\n",
       "      <td>2012</td>\n",
       "      <td>25</td>\n",
       "      <td>78</td>\n",
       "      <td>14</td>\n",
       "      <td>1.4</td>\n",
       "      <td>45</td>\n",
       "      <td>1.9</td>\n",
       "      <td>7.5</td>\n",
       "      <td>0.2</td>\n",
       "      <td>2.4</td>\n",
       "      <td>0.1</td>\n",
       "      <td>not fire</td>\n",
       "    </tr>\n",
       "    <tr>\n",
       "      <th>122</th>\n",
       "      <td>01</td>\n",
       "      <td>06</td>\n",
       "      <td>2012</td>\n",
       "      <td>32</td>\n",
       "      <td>71</td>\n",
       "      <td>12</td>\n",
       "      <td>0.7</td>\n",
       "      <td>57.1</td>\n",
       "      <td>2.5</td>\n",
       "      <td>8.2</td>\n",
       "      <td>0.6</td>\n",
       "      <td>2.8</td>\n",
       "      <td>0.2</td>\n",
       "      <td>not fire</td>\n",
       "    </tr>\n",
       "    <tr>\n",
       "      <th>123</th>\n",
       "      <td>02</td>\n",
       "      <td>06</td>\n",
       "      <td>2012</td>\n",
       "      <td>30</td>\n",
       "      <td>73</td>\n",
       "      <td>13</td>\n",
       "      <td>4</td>\n",
       "      <td>55.7</td>\n",
       "      <td>2.7</td>\n",
       "      <td>7.8</td>\n",
       "      <td>0.6</td>\n",
       "      <td>2.9</td>\n",
       "      <td>0.2</td>\n",
       "      <td>not fire</td>\n",
       "    </tr>\n",
       "    <tr>\n",
       "      <th>124</th>\n",
       "      <td>03</td>\n",
       "      <td>06</td>\n",
       "      <td>2012</td>\n",
       "      <td>29</td>\n",
       "      <td>80</td>\n",
       "      <td>14</td>\n",
       "      <td>2</td>\n",
       "      <td>48.7</td>\n",
       "      <td>2.2</td>\n",
       "      <td>7.6</td>\n",
       "      <td>0.3</td>\n",
       "      <td>2.6</td>\n",
       "      <td>0.1</td>\n",
       "      <td>not fire</td>\n",
       "    </tr>\n",
       "  </tbody>\n",
       "</table>\n",
       "</div>"
      ],
      "text/plain": [
       "    day month  year Temperature  RH  Ws Rain   FFMC  DMC   DC  ISI  BUI  FWI  \\\n",
       "121  30    09  2012          25  78  14   1.4    45  1.9  7.5  0.2  2.4  0.1   \n",
       "122  01    06  2012          32  71  12   0.7  57.1  2.5  8.2  0.6  2.8  0.2   \n",
       "123  02    06  2012          30  73  13     4  55.7  2.7  7.8  0.6  2.9  0.2   \n",
       "124  03    06  2012          29  80  14     2  48.7  2.2  7.6  0.3  2.6  0.1   \n",
       "\n",
       "       Classes    \n",
       "121  not fire     \n",
       "122  not fire     \n",
       "123  not fire     \n",
       "124  not fire     "
      ]
     },
     "execution_count": 13,
     "metadata": {},
     "output_type": "execute_result"
    }
   ],
   "source": [
    "df.iloc[121:].head(4)"
   ]
  },
  {
   "cell_type": "code",
   "execution_count": 14,
   "id": "e1b01e9d",
   "metadata": {},
   "outputs": [],
   "source": [
    "df.loc[:122,'region']=0\n",
    "df.loc[122:,'region']=1"
   ]
  },
  {
   "cell_type": "code",
   "execution_count": 15,
   "id": "31b2da5f",
   "metadata": {},
   "outputs": [
    {
     "data": {
      "text/html": [
       "<div>\n",
       "<style scoped>\n",
       "    .dataframe tbody tr th:only-of-type {\n",
       "        vertical-align: middle;\n",
       "    }\n",
       "\n",
       "    .dataframe tbody tr th {\n",
       "        vertical-align: top;\n",
       "    }\n",
       "\n",
       "    .dataframe thead th {\n",
       "        text-align: right;\n",
       "    }\n",
       "</style>\n",
       "<table border=\"1\" class=\"dataframe\">\n",
       "  <thead>\n",
       "    <tr style=\"text-align: right;\">\n",
       "      <th></th>\n",
       "      <th>day</th>\n",
       "      <th>month</th>\n",
       "      <th>year</th>\n",
       "      <th>Temperature</th>\n",
       "      <th>RH</th>\n",
       "      <th>Ws</th>\n",
       "      <th>Rain</th>\n",
       "      <th>FFMC</th>\n",
       "      <th>DMC</th>\n",
       "      <th>DC</th>\n",
       "      <th>ISI</th>\n",
       "      <th>BUI</th>\n",
       "      <th>FWI</th>\n",
       "      <th>Classes</th>\n",
       "      <th>region</th>\n",
       "    </tr>\n",
       "  </thead>\n",
       "  <tbody>\n",
       "    <tr>\n",
       "      <th>120</th>\n",
       "      <td>29</td>\n",
       "      <td>09</td>\n",
       "      <td>2012</td>\n",
       "      <td>26</td>\n",
       "      <td>80</td>\n",
       "      <td>16</td>\n",
       "      <td>1.8</td>\n",
       "      <td>47.4</td>\n",
       "      <td>2.9</td>\n",
       "      <td>7.7</td>\n",
       "      <td>0.3</td>\n",
       "      <td>3</td>\n",
       "      <td>0.1</td>\n",
       "      <td>not fire</td>\n",
       "      <td>0.0</td>\n",
       "    </tr>\n",
       "    <tr>\n",
       "      <th>121</th>\n",
       "      <td>30</td>\n",
       "      <td>09</td>\n",
       "      <td>2012</td>\n",
       "      <td>25</td>\n",
       "      <td>78</td>\n",
       "      <td>14</td>\n",
       "      <td>1.4</td>\n",
       "      <td>45</td>\n",
       "      <td>1.9</td>\n",
       "      <td>7.5</td>\n",
       "      <td>0.2</td>\n",
       "      <td>2.4</td>\n",
       "      <td>0.1</td>\n",
       "      <td>not fire</td>\n",
       "      <td>0.0</td>\n",
       "    </tr>\n",
       "    <tr>\n",
       "      <th>122</th>\n",
       "      <td>01</td>\n",
       "      <td>06</td>\n",
       "      <td>2012</td>\n",
       "      <td>32</td>\n",
       "      <td>71</td>\n",
       "      <td>12</td>\n",
       "      <td>0.7</td>\n",
       "      <td>57.1</td>\n",
       "      <td>2.5</td>\n",
       "      <td>8.2</td>\n",
       "      <td>0.6</td>\n",
       "      <td>2.8</td>\n",
       "      <td>0.2</td>\n",
       "      <td>not fire</td>\n",
       "      <td>1.0</td>\n",
       "    </tr>\n",
       "    <tr>\n",
       "      <th>123</th>\n",
       "      <td>02</td>\n",
       "      <td>06</td>\n",
       "      <td>2012</td>\n",
       "      <td>30</td>\n",
       "      <td>73</td>\n",
       "      <td>13</td>\n",
       "      <td>4</td>\n",
       "      <td>55.7</td>\n",
       "      <td>2.7</td>\n",
       "      <td>7.8</td>\n",
       "      <td>0.6</td>\n",
       "      <td>2.9</td>\n",
       "      <td>0.2</td>\n",
       "      <td>not fire</td>\n",
       "      <td>1.0</td>\n",
       "    </tr>\n",
       "    <tr>\n",
       "      <th>124</th>\n",
       "      <td>03</td>\n",
       "      <td>06</td>\n",
       "      <td>2012</td>\n",
       "      <td>29</td>\n",
       "      <td>80</td>\n",
       "      <td>14</td>\n",
       "      <td>2</td>\n",
       "      <td>48.7</td>\n",
       "      <td>2.2</td>\n",
       "      <td>7.6</td>\n",
       "      <td>0.3</td>\n",
       "      <td>2.6</td>\n",
       "      <td>0.1</td>\n",
       "      <td>not fire</td>\n",
       "      <td>1.0</td>\n",
       "    </tr>\n",
       "    <tr>\n",
       "      <th>125</th>\n",
       "      <td>04</td>\n",
       "      <td>06</td>\n",
       "      <td>2012</td>\n",
       "      <td>30</td>\n",
       "      <td>64</td>\n",
       "      <td>14</td>\n",
       "      <td>0</td>\n",
       "      <td>79.4</td>\n",
       "      <td>5.2</td>\n",
       "      <td>15.4</td>\n",
       "      <td>2.2</td>\n",
       "      <td>5.6</td>\n",
       "      <td>1</td>\n",
       "      <td>not fire</td>\n",
       "      <td>1.0</td>\n",
       "    </tr>\n",
       "    <tr>\n",
       "      <th>126</th>\n",
       "      <td>05</td>\n",
       "      <td>06</td>\n",
       "      <td>2012</td>\n",
       "      <td>32</td>\n",
       "      <td>60</td>\n",
       "      <td>14</td>\n",
       "      <td>0.2</td>\n",
       "      <td>77.1</td>\n",
       "      <td>6</td>\n",
       "      <td>17.6</td>\n",
       "      <td>1.8</td>\n",
       "      <td>6.5</td>\n",
       "      <td>0.9</td>\n",
       "      <td>not fire</td>\n",
       "      <td>1.0</td>\n",
       "    </tr>\n",
       "    <tr>\n",
       "      <th>127</th>\n",
       "      <td>06</td>\n",
       "      <td>06</td>\n",
       "      <td>2012</td>\n",
       "      <td>35</td>\n",
       "      <td>54</td>\n",
       "      <td>11</td>\n",
       "      <td>0.1</td>\n",
       "      <td>83.7</td>\n",
       "      <td>8.4</td>\n",
       "      <td>26.3</td>\n",
       "      <td>3.1</td>\n",
       "      <td>9.3</td>\n",
       "      <td>3.1</td>\n",
       "      <td>fire</td>\n",
       "      <td>1.0</td>\n",
       "    </tr>\n",
       "    <tr>\n",
       "      <th>128</th>\n",
       "      <td>07</td>\n",
       "      <td>06</td>\n",
       "      <td>2012</td>\n",
       "      <td>35</td>\n",
       "      <td>44</td>\n",
       "      <td>17</td>\n",
       "      <td>0.2</td>\n",
       "      <td>85.6</td>\n",
       "      <td>9.9</td>\n",
       "      <td>28.9</td>\n",
       "      <td>5.4</td>\n",
       "      <td>10.7</td>\n",
       "      <td>6</td>\n",
       "      <td>fire</td>\n",
       "      <td>1.0</td>\n",
       "    </tr>\n",
       "    <tr>\n",
       "      <th>129</th>\n",
       "      <td>08</td>\n",
       "      <td>06</td>\n",
       "      <td>2012</td>\n",
       "      <td>28</td>\n",
       "      <td>51</td>\n",
       "      <td>17</td>\n",
       "      <td>1.3</td>\n",
       "      <td>71.4</td>\n",
       "      <td>7.7</td>\n",
       "      <td>7.4</td>\n",
       "      <td>1.5</td>\n",
       "      <td>7.3</td>\n",
       "      <td>0.8</td>\n",
       "      <td>not fire</td>\n",
       "      <td>1.0</td>\n",
       "    </tr>\n",
       "  </tbody>\n",
       "</table>\n",
       "</div>"
      ],
      "text/plain": [
       "    day month  year Temperature  RH  Ws Rain   FFMC  DMC    DC  ISI   BUI  \\\n",
       "120  29    09  2012          26  80  16   1.8  47.4  2.9   7.7  0.3     3   \n",
       "121  30    09  2012          25  78  14   1.4    45  1.9   7.5  0.2   2.4   \n",
       "122  01    06  2012          32  71  12   0.7  57.1  2.5   8.2  0.6   2.8   \n",
       "123  02    06  2012          30  73  13     4  55.7  2.7   7.8  0.6   2.9   \n",
       "124  03    06  2012          29  80  14     2  48.7  2.2   7.6  0.3   2.6   \n",
       "125  04    06  2012          30  64  14     0  79.4  5.2  15.4  2.2   5.6   \n",
       "126  05    06  2012          32  60  14   0.2  77.1    6  17.6  1.8   6.5   \n",
       "127  06    06  2012          35  54  11   0.1  83.7  8.4  26.3  3.1   9.3   \n",
       "128  07    06  2012          35  44  17   0.2  85.6  9.9  28.9  5.4  10.7   \n",
       "129  08    06  2012          28  51  17   1.3  71.4  7.7   7.4  1.5   7.3   \n",
       "\n",
       "     FWI    Classes    region  \n",
       "120  0.1  not fire        0.0  \n",
       "121  0.1  not fire        0.0  \n",
       "122  0.2  not fire        1.0  \n",
       "123  0.2  not fire        1.0  \n",
       "124  0.1  not fire        1.0  \n",
       "125    1  not fire        1.0  \n",
       "126  0.9  not fire        1.0  \n",
       "127  3.1      fire        1.0  \n",
       "128    6      fire        1.0  \n",
       "129  0.8  not fire        1.0  "
      ]
     },
     "execution_count": 15,
     "metadata": {},
     "output_type": "execute_result"
    }
   ],
   "source": [
    "df.loc[120:].head(10)"
   ]
  },
  {
   "cell_type": "markdown",
   "id": "e1533a8a",
   "metadata": {},
   "source": [
    "# fetching first 5 rows:"
   ]
  },
  {
   "cell_type": "code",
   "execution_count": 16,
   "id": "5db3c19a",
   "metadata": {},
   "outputs": [
    {
     "data": {
      "text/html": [
       "<div>\n",
       "<style scoped>\n",
       "    .dataframe tbody tr th:only-of-type {\n",
       "        vertical-align: middle;\n",
       "    }\n",
       "\n",
       "    .dataframe tbody tr th {\n",
       "        vertical-align: top;\n",
       "    }\n",
       "\n",
       "    .dataframe thead th {\n",
       "        text-align: right;\n",
       "    }\n",
       "</style>\n",
       "<table border=\"1\" class=\"dataframe\">\n",
       "  <thead>\n",
       "    <tr style=\"text-align: right;\">\n",
       "      <th></th>\n",
       "      <th>day</th>\n",
       "      <th>month</th>\n",
       "      <th>year</th>\n",
       "      <th>Temperature</th>\n",
       "      <th>RH</th>\n",
       "      <th>Ws</th>\n",
       "      <th>Rain</th>\n",
       "      <th>FFMC</th>\n",
       "      <th>DMC</th>\n",
       "      <th>DC</th>\n",
       "      <th>ISI</th>\n",
       "      <th>BUI</th>\n",
       "      <th>FWI</th>\n",
       "      <th>Classes</th>\n",
       "      <th>region</th>\n",
       "    </tr>\n",
       "  </thead>\n",
       "  <tbody>\n",
       "    <tr>\n",
       "      <th>0</th>\n",
       "      <td>01</td>\n",
       "      <td>06</td>\n",
       "      <td>2012</td>\n",
       "      <td>29</td>\n",
       "      <td>57</td>\n",
       "      <td>18</td>\n",
       "      <td>0</td>\n",
       "      <td>65.7</td>\n",
       "      <td>3.4</td>\n",
       "      <td>7.6</td>\n",
       "      <td>1.3</td>\n",
       "      <td>3.4</td>\n",
       "      <td>0.5</td>\n",
       "      <td>not fire</td>\n",
       "      <td>0.0</td>\n",
       "    </tr>\n",
       "    <tr>\n",
       "      <th>1</th>\n",
       "      <td>02</td>\n",
       "      <td>06</td>\n",
       "      <td>2012</td>\n",
       "      <td>29</td>\n",
       "      <td>61</td>\n",
       "      <td>13</td>\n",
       "      <td>1.3</td>\n",
       "      <td>64.4</td>\n",
       "      <td>4.1</td>\n",
       "      <td>7.6</td>\n",
       "      <td>1</td>\n",
       "      <td>3.9</td>\n",
       "      <td>0.4</td>\n",
       "      <td>not fire</td>\n",
       "      <td>0.0</td>\n",
       "    </tr>\n",
       "    <tr>\n",
       "      <th>2</th>\n",
       "      <td>03</td>\n",
       "      <td>06</td>\n",
       "      <td>2012</td>\n",
       "      <td>26</td>\n",
       "      <td>82</td>\n",
       "      <td>22</td>\n",
       "      <td>13.1</td>\n",
       "      <td>47.1</td>\n",
       "      <td>2.5</td>\n",
       "      <td>7.1</td>\n",
       "      <td>0.3</td>\n",
       "      <td>2.7</td>\n",
       "      <td>0.1</td>\n",
       "      <td>not fire</td>\n",
       "      <td>0.0</td>\n",
       "    </tr>\n",
       "    <tr>\n",
       "      <th>3</th>\n",
       "      <td>04</td>\n",
       "      <td>06</td>\n",
       "      <td>2012</td>\n",
       "      <td>25</td>\n",
       "      <td>89</td>\n",
       "      <td>13</td>\n",
       "      <td>2.5</td>\n",
       "      <td>28.6</td>\n",
       "      <td>1.3</td>\n",
       "      <td>6.9</td>\n",
       "      <td>0</td>\n",
       "      <td>1.7</td>\n",
       "      <td>0</td>\n",
       "      <td>not fire</td>\n",
       "      <td>0.0</td>\n",
       "    </tr>\n",
       "    <tr>\n",
       "      <th>4</th>\n",
       "      <td>05</td>\n",
       "      <td>06</td>\n",
       "      <td>2012</td>\n",
       "      <td>27</td>\n",
       "      <td>77</td>\n",
       "      <td>16</td>\n",
       "      <td>0</td>\n",
       "      <td>64.8</td>\n",
       "      <td>3</td>\n",
       "      <td>14.2</td>\n",
       "      <td>1.2</td>\n",
       "      <td>3.9</td>\n",
       "      <td>0.5</td>\n",
       "      <td>not fire</td>\n",
       "      <td>0.0</td>\n",
       "    </tr>\n",
       "  </tbody>\n",
       "</table>\n",
       "</div>"
      ],
      "text/plain": [
       "  day month  year Temperature  RH  Ws Rain   FFMC  DMC    DC  ISI  BUI  FWI  \\\n",
       "0  01    06  2012          29  57  18     0  65.7  3.4   7.6  1.3  3.4  0.5   \n",
       "1  02    06  2012          29  61  13   1.3  64.4  4.1   7.6    1  3.9  0.4   \n",
       "2  03    06  2012          26  82  22  13.1  47.1  2.5   7.1  0.3  2.7  0.1   \n",
       "3  04    06  2012          25  89  13   2.5  28.6  1.3   6.9    0  1.7    0   \n",
       "4  05    06  2012          27  77  16     0  64.8    3  14.2  1.2  3.9  0.5   \n",
       "\n",
       "     Classes    region  \n",
       "0  not fire        0.0  \n",
       "1  not fire        0.0  \n",
       "2  not fire        0.0  \n",
       "3  not fire        0.0  \n",
       "4  not fire        0.0  "
      ]
     },
     "execution_count": 16,
     "metadata": {},
     "output_type": "execute_result"
    }
   ],
   "source": [
    "df.head()"
   ]
  },
  {
   "cell_type": "code",
   "execution_count": 17,
   "id": "13172155",
   "metadata": {},
   "outputs": [
    {
     "data": {
      "text/html": [
       "<div>\n",
       "<style scoped>\n",
       "    .dataframe tbody tr th:only-of-type {\n",
       "        vertical-align: middle;\n",
       "    }\n",
       "\n",
       "    .dataframe tbody tr th {\n",
       "        vertical-align: top;\n",
       "    }\n",
       "\n",
       "    .dataframe thead th {\n",
       "        text-align: right;\n",
       "    }\n",
       "</style>\n",
       "<table border=\"1\" class=\"dataframe\">\n",
       "  <thead>\n",
       "    <tr style=\"text-align: right;\">\n",
       "      <th></th>\n",
       "      <th>day</th>\n",
       "      <th>month</th>\n",
       "      <th>year</th>\n",
       "      <th>Temperature</th>\n",
       "      <th>RH</th>\n",
       "      <th>Ws</th>\n",
       "      <th>Rain</th>\n",
       "      <th>FFMC</th>\n",
       "      <th>DMC</th>\n",
       "      <th>DC</th>\n",
       "      <th>ISI</th>\n",
       "      <th>BUI</th>\n",
       "      <th>FWI</th>\n",
       "      <th>Classes</th>\n",
       "      <th>region</th>\n",
       "    </tr>\n",
       "  </thead>\n",
       "  <tbody>\n",
       "    <tr>\n",
       "      <th>239</th>\n",
       "      <td>26</td>\n",
       "      <td>09</td>\n",
       "      <td>2012</td>\n",
       "      <td>30</td>\n",
       "      <td>65</td>\n",
       "      <td>14</td>\n",
       "      <td>0</td>\n",
       "      <td>85.4</td>\n",
       "      <td>16</td>\n",
       "      <td>44.5</td>\n",
       "      <td>4.5</td>\n",
       "      <td>16.9</td>\n",
       "      <td>6.5</td>\n",
       "      <td>fire</td>\n",
       "      <td>1.0</td>\n",
       "    </tr>\n",
       "    <tr>\n",
       "      <th>240</th>\n",
       "      <td>27</td>\n",
       "      <td>09</td>\n",
       "      <td>2012</td>\n",
       "      <td>28</td>\n",
       "      <td>87</td>\n",
       "      <td>15</td>\n",
       "      <td>4.4</td>\n",
       "      <td>41.1</td>\n",
       "      <td>6.5</td>\n",
       "      <td>8</td>\n",
       "      <td>0.1</td>\n",
       "      <td>6.2</td>\n",
       "      <td>0</td>\n",
       "      <td>not fire</td>\n",
       "      <td>1.0</td>\n",
       "    </tr>\n",
       "    <tr>\n",
       "      <th>241</th>\n",
       "      <td>28</td>\n",
       "      <td>09</td>\n",
       "      <td>2012</td>\n",
       "      <td>27</td>\n",
       "      <td>87</td>\n",
       "      <td>29</td>\n",
       "      <td>0.5</td>\n",
       "      <td>45.9</td>\n",
       "      <td>3.5</td>\n",
       "      <td>7.9</td>\n",
       "      <td>0.4</td>\n",
       "      <td>3.4</td>\n",
       "      <td>0.2</td>\n",
       "      <td>not fire</td>\n",
       "      <td>1.0</td>\n",
       "    </tr>\n",
       "    <tr>\n",
       "      <th>242</th>\n",
       "      <td>29</td>\n",
       "      <td>09</td>\n",
       "      <td>2012</td>\n",
       "      <td>24</td>\n",
       "      <td>54</td>\n",
       "      <td>18</td>\n",
       "      <td>0.1</td>\n",
       "      <td>79.7</td>\n",
       "      <td>4.3</td>\n",
       "      <td>15.2</td>\n",
       "      <td>1.7</td>\n",
       "      <td>5.1</td>\n",
       "      <td>0.7</td>\n",
       "      <td>not fire</td>\n",
       "      <td>1.0</td>\n",
       "    </tr>\n",
       "    <tr>\n",
       "      <th>243</th>\n",
       "      <td>30</td>\n",
       "      <td>09</td>\n",
       "      <td>2012</td>\n",
       "      <td>24</td>\n",
       "      <td>64</td>\n",
       "      <td>15</td>\n",
       "      <td>0.2</td>\n",
       "      <td>67.3</td>\n",
       "      <td>3.8</td>\n",
       "      <td>16.5</td>\n",
       "      <td>1.2</td>\n",
       "      <td>4.8</td>\n",
       "      <td>0.5</td>\n",
       "      <td>not fire</td>\n",
       "      <td>1.0</td>\n",
       "    </tr>\n",
       "  </tbody>\n",
       "</table>\n",
       "</div>"
      ],
      "text/plain": [
       "    day month  year Temperature  RH  Ws Rain   FFMC  DMC    DC  ISI   BUI  \\\n",
       "239  26    09  2012          30  65  14     0  85.4   16  44.5  4.5  16.9   \n",
       "240  27    09  2012          28  87  15   4.4  41.1  6.5     8  0.1   6.2   \n",
       "241  28    09  2012          27  87  29   0.5  45.9  3.5   7.9  0.4   3.4   \n",
       "242  29    09  2012          24  54  18   0.1  79.7  4.3  15.2  1.7   5.1   \n",
       "243  30    09  2012          24  64  15   0.2  67.3  3.8  16.5  1.2   4.8   \n",
       "\n",
       "     FWI     Classes    region  \n",
       "239  6.5       fire        1.0  \n",
       "240    0   not fire        1.0  \n",
       "241  0.2   not fire        1.0  \n",
       "242  0.7   not fire        1.0  \n",
       "243  0.5  not fire         1.0  "
      ]
     },
     "execution_count": 17,
     "metadata": {},
     "output_type": "execute_result"
    }
   ],
   "source": [
    "df.tail()"
   ]
  },
  {
   "cell_type": "markdown",
   "id": "08bd3a59",
   "metadata": {},
   "source": [
    "# Shape of the dataset"
   ]
  },
  {
   "cell_type": "code",
   "execution_count": 19,
   "id": "8c1a7a35",
   "metadata": {},
   "outputs": [
    {
     "data": {
      "text/plain": [
       "(244, 15)"
      ]
     },
     "execution_count": 19,
     "metadata": {},
     "output_type": "execute_result"
    }
   ],
   "source": [
    "df.shape"
   ]
  },
  {
   "cell_type": "markdown",
   "id": "dcab36fd",
   "metadata": {},
   "source": [
    "# fetching information of the dataset"
   ]
  },
  {
   "cell_type": "code",
   "execution_count": 20,
   "id": "a660f2fb",
   "metadata": {},
   "outputs": [
    {
     "name": "stdout",
     "output_type": "stream",
     "text": [
      "<class 'pandas.core.frame.DataFrame'>\n",
      "RangeIndex: 244 entries, 0 to 243\n",
      "Data columns (total 15 columns):\n",
      " #   Column       Non-Null Count  Dtype  \n",
      "---  ------       --------------  -----  \n",
      " 0   day          244 non-null    object \n",
      " 1   month        244 non-null    object \n",
      " 2   year         244 non-null    object \n",
      " 3   Temperature  244 non-null    object \n",
      " 4    RH          244 non-null    object \n",
      " 5    Ws          244 non-null    object \n",
      " 6   Rain         244 non-null    object \n",
      " 7   FFMC         244 non-null    object \n",
      " 8   DMC          244 non-null    object \n",
      " 9   DC           244 non-null    object \n",
      " 10  ISI          244 non-null    object \n",
      " 11  BUI          244 non-null    object \n",
      " 12  FWI          244 non-null    object \n",
      " 13  Classes      243 non-null    object \n",
      " 14  region       244 non-null    float64\n",
      "dtypes: float64(1), object(14)\n",
      "memory usage: 28.7+ KB\n"
     ]
    }
   ],
   "source": [
    "df.info()"
   ]
  },
  {
   "cell_type": "markdown",
   "id": "b65086ef",
   "metadata": {},
   "source": [
    "# data cleaning"
   ]
  },
  {
   "cell_type": "code",
   "execution_count": 22,
   "id": "66aeab26",
   "metadata": {},
   "outputs": [
    {
     "data": {
      "text/plain": [
       "Index(['day', 'month', 'year', 'Temperature', ' RH', ' Ws', 'Rain ', 'FFMC',\n",
       "       'DMC', 'DC', 'ISI', 'BUI', 'FWI', 'Classes  ', 'region'],\n",
       "      dtype='object')"
      ]
     },
     "execution_count": 22,
     "metadata": {},
     "output_type": "execute_result"
    }
   ],
   "source": [
    "df.columns"
   ]
  },
  {
   "cell_type": "code",
   "execution_count": 23,
   "id": "5a7743f1",
   "metadata": {},
   "outputs": [
    {
     "data": {
      "text/plain": [
       "Index(['day', 'month', 'year', 'Temperature', 'RH', 'Ws', 'Rain', 'FFMC',\n",
       "       'DMC', 'DC', 'ISI', 'BUI', 'FWI', 'Classes', 'region'],\n",
       "      dtype='object')"
      ]
     },
     "execution_count": 23,
     "metadata": {},
     "output_type": "execute_result"
    }
   ],
   "source": [
    "df.columns=[i.strip() for i in df.columns]\n",
    "df.columns"
   ]
  },
  {
   "cell_type": "markdown",
   "id": "bd8bbbb8",
   "metadata": {},
   "source": [
    "# Changing Datatypes"
   ]
  },
  {
   "cell_type": "code",
   "execution_count": 34,
   "id": "26675e7c",
   "metadata": {},
   "outputs": [
    {
     "data": {
      "text/plain": [
       "Index(['day', 'month', 'year', 'Temperature', 'RH', 'Ws', 'Rain', 'FFMC',\n",
       "       'DMC', 'DC', 'ISI', 'BUI', 'FWI', 'Classes', 'region'],\n",
       "      dtype='object')"
      ]
     },
     "execution_count": 34,
     "metadata": {},
     "output_type": "execute_result"
    }
   ],
   "source": [
    "df.columns"
   ]
  },
  {
   "cell_type": "code",
   "execution_count": 60,
   "id": "97da978e",
   "metadata": {},
   "outputs": [],
   "source": [
    "df['day'] =df['day'].astype(int).astype(int)"
   ]
  },
  {
   "cell_type": "code",
   "execution_count": 64,
   "id": "f4bd87bb",
   "metadata": {},
   "outputs": [],
   "source": [
    "df['day'] =df['day'].astype(int).astype(int)"
   ]
  },
  {
   "cell_type": "code",
   "execution_count": 70,
   "id": "c17f4ca6",
   "metadata": {},
   "outputs": [],
   "source": [
    "df['FFMC'] =df['FFMC'].astype(float).astype(float)"
   ]
  },
  {
   "cell_type": "code",
   "execution_count": 72,
   "id": "8d570eac",
   "metadata": {},
   "outputs": [],
   "source": [
    "df['DMC'] =df['DMC'].astype(float).astype(float)"
   ]
  },
  {
   "cell_type": "code",
   "execution_count": 74,
   "id": "7feac264",
   "metadata": {},
   "outputs": [],
   "source": [
    "df['ISI'] =df['ISI'].astype(float).astype(float)"
   ]
  },
  {
   "cell_type": "code",
   "execution_count": 78,
   "id": "7e864568",
   "metadata": {},
   "outputs": [],
   "source": [
    "df['BUI'] =df['BUI'].astype(float).astype(float)"
   ]
  },
  {
   "cell_type": "code",
   "execution_count": 94,
   "id": "5c5bf748",
   "metadata": {},
   "outputs": [
    {
     "name": "stdout",
     "output_type": "stream",
     "text": [
      "<class 'pandas.core.frame.DataFrame'>\n",
      "RangeIndex: 244 entries, 0 to 243\n",
      "Data columns (total 16 columns):\n",
      " #   Column         Non-Null Count  Dtype  \n",
      "---  ------         --------------  -----  \n",
      " 0   day            244 non-null    int32  \n",
      " 1   month          244 non-null    int32  \n",
      " 2   year           244 non-null    int32  \n",
      " 3   Temperature    244 non-null    int32  \n",
      " 4   RH             244 non-null    int32  \n",
      " 5   Ws             244 non-null    int32  \n",
      " 6   Rain           244 non-null    float64\n",
      " 7   FFMC           244 non-null    float64\n",
      " 8   DMC            244 non-null    float64\n",
      " 9   DC             244 non-null    object \n",
      " 10  ISI            244 non-null    float64\n",
      " 11  BUI            244 non-null    float64\n",
      " 12  FWI            244 non-null    object \n",
      " 13  Classes        243 non-null    object \n",
      " 14  region         244 non-null    float64\n",
      " 15  Temperature    244 non-null    int32  \n",
      "dtypes: float64(6), int32(7), object(3)\n",
      "memory usage: 24.0+ KB\n"
     ]
    }
   ],
   "source": [
    "df.info()\n"
   ]
  },
  {
   "cell_type": "code",
   "execution_count": 95,
   "id": "934da044",
   "metadata": {},
   "outputs": [
    {
     "name": "stdout",
     "output_type": "stream",
     "text": [
      "     day  month  year  Temperature  RH  Ws  Rain  FFMC   DMC      DC   ISI   BUI      FWI        Classes  region  Temperature  \n",
      "0      1      6  2012           29  57  18   0.0  65.7   3.4     7.6   1.3   3.4      0.5    not fire        0.0             29\n",
      "1      2      6  2012           29  61  13   1.3  64.4   4.1     7.6   1.0   3.9      0.4    not fire        0.0             29\n",
      "2      3      6  2012           26  82  22  13.1  47.1   2.5     7.1   0.3   2.7      0.1    not fire        0.0             26\n",
      "3      4      6  2012           25  89  13   2.5  28.6   1.3     6.9   0.0   1.7        0    not fire        0.0             25\n",
      "4      5      6  2012           27  77  16   0.0  64.8   3.0    14.2   1.2   3.9      0.5    not fire        0.0             27\n",
      "5      6      6  2012           31  67  14   0.0  82.6   5.8    22.2   3.1   7.0      2.5        fire        0.0             31\n",
      "6      7      6  2012           33  54  13   0.0  88.2   9.9    30.5   6.4  10.9      7.2        fire        0.0             33\n",
      "7      8      6  2012           30  73  15   0.0  86.6  12.1    38.3   5.6  13.5      7.1        fire        0.0             30\n",
      "8      9      6  2012           25  88  13   0.2  52.9   7.9    38.8   0.4  10.5      0.3    not fire        0.0             25\n",
      "9     10      6  2012           28  79  12   0.0  73.2   9.5    46.3   1.3  12.6      0.9    not fire        0.0             28\n",
      "10    11      6  2012           31  65  14   0.0  84.5  12.5    54.3   4.0  15.8      5.6        fire        0.0             31\n",
      "11    12      6  2012           26  81  19   0.0  84.0  13.8    61.4   4.8  17.7     7.1         fire        0.0             26\n",
      "12    13      6  2012           27  84  21   1.2  50.0   6.7      17   0.5   6.7      0.2    not fire        0.0             27\n",
      "13    14      6  2012           30  78  20   0.5  59.0   4.6     7.8   1.0   4.4      0.4    not fire        0.0             30\n",
      "14    15      6  2012           28  80  17   3.1  49.4   3.0     7.4   0.4   3.0      0.1    not fire        0.0             28\n",
      "15    16      6  2012           29  89  13   0.7  36.1   1.7     7.6   0.0   2.2        0    not fire        0.0             29\n",
      "16    17      6  2012           30  89  16   0.6  37.3   1.1     7.8   0.0   1.6        0    not fire        0.0             30\n",
      "17    18      6  2012           31  78  14   0.3  56.9   1.9       8   0.7   2.4      0.2    not fire        0.0             31\n",
      "18    19      6  2012           31  55  16   0.1  79.9   4.5      16   2.5   5.3      1.4    not fire        0.0             31\n",
      "19    20      6  2012           30  80  16   0.4  59.8   3.4    27.1   0.9   5.1      0.4    not fire        0.0             30\n",
      "20    21      6  2012           30  78  14   0.0  81.0   6.3    31.6   2.6   8.4      2.2        fire        0.0             30\n",
      "21    22      6  2012           31  67  17   0.1  79.1   7.0    39.5   2.4   9.7      2.3    not fire        0.0             31\n",
      "22    23      6  2012           32  62  18   0.1  81.4   8.2    47.7   3.3  11.5      3.8        fire        0.0             32\n",
      "23    24      6  2012           32  66  17   0.0  85.9  11.2    55.8   5.6  14.9      7.5        fire        0.0             32\n",
      "24    25      6  2012           31  64  15   0.0  86.7  14.2    63.8   5.7  18.3      8.4        fire        0.0             31\n",
      "25    26      6  2012           31  64  18   0.0  86.8  17.8    71.8   6.7  21.6     10.6        fire        0.0             31\n",
      "26    27      6  2012           34  53  18   0.0  89.0  21.6    80.3   9.2  25.8       15        fire        0.0             34\n",
      "27    28      6  2012           32  55  14   0.0  89.1  25.5    88.5   7.6  29.7     13.9        fire        0.0             32\n",
      "28    29      6  2012           32  47  13   0.3  79.9  18.4    84.4   2.2  23.8      3.9    not fire        0.0             32\n",
      "29    30      6  2012           33  50  14   0.0  88.7  22.9    92.8   7.2  28.3     12.9        fire        0.0             33\n",
      "30     1      7  2012           29  68  19   1.0  59.9   2.5     8.6   1.1   2.9      0.4    not fire        0.0             29\n",
      "31     2      7  2012           27  75  19   1.2  55.7   2.4     8.3   0.8   2.8      0.3    not fire        0.0             27\n",
      "32     3      7  2012           32  76  20   0.7  63.1   2.6     9.2   1.3   3.0      0.5    not fire        0.0             32\n",
      "33     4      7  2012           33  78  17   0.0  80.1   4.6    18.5   2.7   5.7      1.7    not fire        0.0             33\n",
      "34     5      7  2012           33  66  14   0.0  85.9   7.6    27.9   4.8   9.1      4.9        fire        0.0             33\n",
      "35     6      7  2012           32  63  14   0.0  87.0  10.9      37   5.6  12.5      6.8        fire        0.0             32\n",
      "36     7      7  2012           35  64  18   0.2  80.0   9.7    40.4   2.8  12.1      3.2    not fire        0.0             35\n",
      "37     8      7  2012           33  68  19   0.0  85.6  12.5    49.8   6.0  15.4        8        fire        0.0             33\n",
      "38     9      7  2012           32  68  14   1.4  66.6   7.7     9.2   1.1   7.4      0.6    not fire        0.0             32\n",
      "39    10      7  2012           33  69  13   0.7  66.6   6.0     9.3   1.1   5.8      0.5    not fire        0.0             33\n",
      "40    11      7  2012           33  76  14   0.0  81.1   8.1    18.7   2.6   8.1      2.2    not fire        0.0             33\n",
      "41    12      7  2012           31  75  13   0.1  75.1   7.9    27.7   1.5   9.2      0.9    not fire        0.0             31\n",
      "42    13      7  2012           34  81  15   0.0  81.8   9.7    37.2   3.0  11.7      3.4    not fire        0.0             34\n",
      "43    14      7  2012           34  61  13   0.6  73.9   7.8    22.9   1.4   8.4      0.8    not fire        0.0             34\n",
      "44    15      7  2012           30  80  19   0.4  60.7   5.2      17   1.1   5.9      0.5    not fire        0.0             30\n",
      "45    16      7  2012           28  76  21   0.0  72.6   7.0    25.5   0.7   8.3      0.4    not fire        0.0             28\n",
      "46    17      7  2012           29  70  14   0.0  82.8   9.4    34.1   3.2  11.1      3.6        fire        0.0             29\n",
      "47    18      7  2012           31  68  14   0.0  85.4  12.1    43.1   4.6  14.2        6        fire        0.0             31\n",
      "48    19      7  2012           35  59  17   0.0  88.1  12.0    52.8   7.7  18.2     10.9        fire        0.0             35\n",
      "49    20      7  2012           33  65  15   0.1  81.4  12.3    62.1   2.8  16.5        4        fire        0.0             33\n",
      "50    21      7  2012           33  70  17   0.0  85.4  18.5    71.5   5.2  22.4      8.8        fire        0.0             33\n",
      "51    22      7  2012           28  79  18   0.1  73.4  16.4    79.9   1.8  21.7      2.8    not fire        0.0             28\n",
      "52    23      7  2012           27  66  22   0.4  68.2  10.5    71.3   1.8  15.4      2.1    not fire        0.0             27\n",
      "53    24      7  2012           28  78  16   0.1  70.0   9.6    79.7   1.4  14.7      1.3    not fire        0.0             28\n",
      "54    25      7  2012           31  65  18   0.0  84.3  12.5    88.7   4.8  18.5      7.3        fire        0.0             31\n",
      "55    26      7  2012           36  53  19   0.0  89.2  17.1    98.6  10.0  23.9     15.3        fire        0.0             36\n",
      "56    27      7  2012           36  48  13   0.0  90.3  22.2   108.5   8.7  29.4     15.3        fire        0.0             36\n",
      "57    28      7  2012           33  76  15   0.0  86.5  24.4   117.8   5.6  32.1     11.3        fire        0.0             33\n",
      "58    29      7  2012           32  73  15   0.0  86.6  26.7     127   5.6  35.0     11.9        fire        0.0             32\n",
      "59    30      7  2012           31  79  15   0.0  85.4  28.5     136   4.7  37.4     10.7        fire        0.0             31\n",
      "60    31      7  2012           35  64  17   0.0  87.2  31.9   145.7   6.8  41.2     15.7        fire        0.0             35\n",
      "61     1      8  2012           36  45  14   0.0  78.8   4.8    10.2   2.0   4.7      0.9    not fire        0.0             36\n",
      "62     2      8  2012           35  55  12   0.4  78.0   5.8      10   1.7   5.5      0.8    not fire        0.0             35\n",
      "63     3      8  2012           35  63  14   0.3  76.6   5.7      10   1.7   5.5      0.8    not fire        0.0             35\n",
      "64     4      8  2012           34  69  13   0.0  85.0   8.2    19.8   4.0   8.2      3.9        fire        0.0             34\n",
      "65     5      8  2012           34  65  13   0.0  86.8  11.1    29.7   5.2  11.5      6.1        fire        0.0             34\n",
      "66     6      8  2012           32  75  14   0.0  86.4  13.0    39.1   5.2  14.2      6.8        fire        0.0             32\n",
      "67     7      8  2012           32  69  16   0.0  86.5  15.5    48.6   5.5  17.2        8        fire        0.0             32\n",
      "68     8      8  2012           32  60  18   0.3  77.1  11.3      47   2.2  14.1      2.6    not fire        0.0             32\n",
      "69     9      8  2012           35  59  17   0.0  87.4  14.8      57   6.9  17.9      9.9        fire        0.0             35\n",
      "70    10      8  2012           35  55  14   0.0  88.9  18.6      67   7.4  21.9     11.6        fire        0.0             35\n",
      "71    11      8  2012           35  63  13   0.0  88.9  21.7      77   7.1  25.5     12.1        fire        0.0             35\n",
      "72    12      8  2012           35  51  13   0.3  81.3  15.6    75.1   2.5  20.7      4.2    not fire        0.0             35\n",
      "73    13      8  2012           35  63  15   0.0  87.0  19.0    85.1   5.9  24.4     10.2        fire        0.0             35\n",
      "74    14      8  2012           33  66  14   0.0  87.0  21.7    94.7   5.7  27.2     10.6        fire        0.0             33\n",
      "75    15      8  2012           36  55  13   0.3  82.4  15.6    92.5   3.7  22.0      6.3        fire        0.0             36\n",
      "76    16      8  2012           36  61  18   0.3  80.2  11.7    90.4   2.8  17.6      4.2        fire        0.0             36\n",
      "77    17      8  2012           37  52  18   0.0  89.3  16.0   100.7   9.7  22.9     14.6        fire        0.0             37\n",
      "78    18      8  2012           36  54  18   0.0  89.4  20.0   110.9   9.7  27.5     16.1        fire        0.0             36\n",
      "79    19      8  2012           35  62  19   0.0  89.4  23.2   120.9   9.7  31.3     17.2        fire        0.0             35\n",
      "80    20      8  2012           35  68  19   0.0  88.3  25.9   130.6   8.8  34.7     16.8        fire        0.0             35\n",
      "81    21      8  2012           36  58  19   0.0  88.6  29.6   141.1   9.2  38.8     18.4        fire        0.0             36\n",
      "82    22      8  2012           36  55  18   0.0  89.1  33.5   151.3   9.9  43.1     20.4        fire        0.0             36\n",
      "83    23      8  2012           36  53  16   0.0  89.5  37.6   161.5  10.4  47.5     22.3           fire     0.0             36\n",
      "84    24      8  2012           34  64  14   0.0  88.9  40.5   171.3   9.0  50.9     20.9        fire        0.0             34\n",
      "85    25      8  2012           35  60  15   0.0  88.9  43.9   181.3   8.2  54.7     20.3           fire     0.0             35\n",
      "86    26      8  2012           31  78  18   0.0  85.8  45.6   190.6   4.7  57.1     13.7          fire      0.0             31\n",
      "87    27      8  2012           33  82  21   0.0  84.9  47.0   200.2   4.4  59.3     13.2           fire     0.0             33\n",
      "88    28      8  2012           34  64  16   0.0  89.4  50.2   210.4   7.3  62.9     19.9          fire      0.0             34\n",
      "89    29      8  2012           35  48  18   0.0  90.1  54.2   220.4  12.5  67.4     30.2        fire        0.0             35\n",
      "90    30      8  2012           35  70  17   0.8  72.7  25.2   180.4   1.7  37.4      4.2    not fire        0.0             35\n",
      "91    31      8  2012           28  80  21  16.8  52.5   8.7     8.7   0.6   8.3      0.3       not fire     0.0             28\n",
      "92     1      9  2012           25  76  17   7.2  46.0   1.3     7.5   0.2   1.8      0.1      not fire      0.0             25\n",
      "93     2      9  2012           22  86  15  10.1  30.5   0.7       7   0.0   1.1        0       not fire     0.0             22\n",
      "94     3      9  2012           25  78  15   3.8  42.6   1.2     7.5   0.1   1.7        0    not fire        0.0             25\n",
      "95     4      9  2012           29  73  17   0.1  68.4   1.9    15.7   1.4   2.9      0.5    not fire        0.0             29\n",
      "96     5      9  2012           29  75  16   0.0  80.8   3.4      24   2.8   5.1      1.7        fire        0.0             29\n",
      "97     6      9  2012           29  74  19   0.1  75.8   3.6    32.2   2.1   5.6      0.9    not fire        0.0             29\n",
      "98     7      9  2012           31  71  17   0.3  69.6   3.2    30.1   1.5   5.1      0.6    not fire        0.0             31\n",
      "99     8      9  2012           30  73  17   0.9  62.0   2.6     8.4   1.1   3.0      0.4    not fire        0.0             30\n",
      "100    9      9  2012           30  77  15   1.0  56.1   2.1     8.4   0.7   2.6      0.2    not fire        0.0             30\n",
      "101   10      9  2012           33  73  12   1.8  59.9   2.2     8.9   0.7   2.7      0.3    not fire        0.0             33\n",
      "102   11      9  2012           30  77  21   1.8  58.5   1.9     8.4   1.1   2.4      0.3    not fire        0.0             30\n",
      "103   12      9  2012           29  88  13   0.0  71.0   2.6    16.6   1.2   3.7      0.5    not fire        0.0             29\n",
      "104   13      9  2012           25  86  21   4.6  40.9   1.3     7.5   0.1   1.8        0    not fire        0.0             25\n",
      "105   14      9  2012           22  76  26   8.3  47.4   1.1       7   0.4   1.6      0.1    not fire        0.0             22\n",
      "106   15      9  2012           24  82  15   0.4  44.9   0.9     7.3   0.2   1.4        0    not fire        0.0             24\n",
      "107   16      9  2012           30  65  14   0.0  78.1   3.2    15.7   1.9   4.2      0.8    not fire        0.0             30\n",
      "108   17      9  2012           31  52  14   0.0  87.7   6.4    24.3   6.2   7.7      5.9        fire        0.0             31\n",
      "109   18      9  2012           32  49  11   0.0  89.4   9.8    33.1   6.8  11.3      7.7        fire        0.0             32\n",
      "110   19      9  2012           29  57  14   0.0  89.3  12.5    41.3   7.8  14.2      9.7        fire        0.0             29\n",
      "111   20      9  2012           28  84  18   0.0  83.8  13.5    49.3   4.5  16.0      6.3           fire     0.0             28\n",
      "112   21      9  2012           31  55  11   0.0  87.8  16.5    57.9   5.4  19.2      8.3        fire        0.0             31\n",
      "113   22      9  2012           31  50  19   0.6  77.8  10.6    41.4   2.4  12.9      2.8    not fire        0.0             31\n",
      "114   23      9  2012           32  54  11   0.5  73.7   7.9    30.4   1.2   9.6      0.7    not fire        0.0             32\n",
      "115   24      9  2012           29  65  19   0.6  68.3   5.5    15.2   1.5   5.8      0.7    not fire        0.0             29\n",
      "116   25      9  2012           26  81  21   5.8  48.6   3.0     7.7   0.4   3.0      0.1    not fire        0.0             26\n",
      "117   26      9  2012           31  54  11   0.0  82.0   6.0    16.3   2.5   6.2      1.7    not fire        0.0             31\n",
      "118   27      9  2012           31  66  11   0.0  85.7   8.3    24.9   4.0   9.0      4.1        fire        0.0             31\n",
      "119   28      9  2012           32  47  14   0.7  77.5   7.1     8.8   1.8   6.8      0.9    not fire        0.0             32\n",
      "120   29      9  2012           26  80  16   1.8  47.4   2.9     7.7   0.3   3.0      0.1    not fire        0.0             26\n",
      "121   30      9  2012           25  78  14   1.4  45.0   1.9     7.5   0.2   2.4      0.1    not fire        0.0             25\n",
      "122    1      6  2012           32  71  12   0.7  57.1   2.5     8.2   0.6   2.8      0.2    not fire        1.0             32\n",
      "123    2      6  2012           30  73  13   4.0  55.7   2.7     7.8   0.6   2.9      0.2    not fire        1.0             30\n",
      "124    3      6  2012           29  80  14   2.0  48.7   2.2     7.6   0.3   2.6      0.1    not fire        1.0             29\n",
      "125    4      6  2012           30  64  14   0.0  79.4   5.2    15.4   2.2   5.6        1    not fire        1.0             30\n",
      "126    5      6  2012           32  60  14   0.2  77.1   6.0    17.6   1.8   6.5      0.9    not fire        1.0             32\n",
      "127    6      6  2012           35  54  11   0.1  83.7   8.4    26.3   3.1   9.3      3.1        fire        1.0             35\n",
      "128    7      6  2012           35  44  17   0.2  85.6   9.9    28.9   5.4  10.7        6        fire        1.0             35\n",
      "129    8      6  2012           28  51  17   1.3  71.4   7.7     7.4   1.5   7.3      0.8    not fire        1.0             28\n",
      "130    9      6  2012           27  59  18   0.1  78.1   8.5    14.7   2.4   8.3      1.9    not fire        1.0             27\n",
      "131   10      6  2012           30  41  15   0.0  89.4  13.3    22.5   8.4  13.1       10        fire        1.0             30\n",
      "132   11      6  2012           31  42  21   0.0  90.6  18.2    30.5  13.4  18.0     16.7        fire        1.0             31\n",
      "133   12      6  2012           27  58  17   0.0  88.9  21.3    37.8   8.7  21.2     12.9        fire        1.0             27\n",
      "134   13      6  2012           30  52  15   2.0  72.3  11.4     7.8   1.4  10.9      0.9    not fire        1.0             30\n",
      "135   14      6  2012           27  79  16   0.7  53.4   6.4     7.3   0.5   6.1      0.3    not fire        1.0             27\n",
      "136   15      6  2012           28  90  15   0.0  66.8   7.2    14.7   1.2   7.1      0.6    not fire        1.0             28\n",
      "137   16      6  2012           29  87  15   0.4  47.4   4.2       8   0.2   4.1      0.1    not fire        1.0             29\n",
      "138   17      6  2012           31  69  17   4.7  62.2   3.9       8   1.1   3.8      0.4    not fire        1.0             31\n",
      "139   18      6  2012           33  62  10   8.7  65.5   4.6     8.3   0.9   4.4      0.4    not fire        1.0             33\n",
      "140   19      6  2012           32  67  14   4.5  64.6   4.4     8.2   1.0   4.2      0.4    not fire        1.0             32\n",
      "141   20      6  2012           31  72  14   0.2  60.2   3.8       8   0.8   3.7      0.3    not fire        1.0             31\n",
      "142   21      6  2012           32  55  14   0.0  86.2   8.3    18.4   5.0   8.2      4.9        fire        1.0             32\n",
      "143   22      6  2012           33  46  14   1.1  78.3   8.1     8.3   1.9   7.7      1.2    not fire        1.0             33\n",
      "144   23      6  2012           33  59  16   0.8  74.2   7.0     8.3   1.6   6.7      0.8    not fire        1.0             33\n",
      "145   24      6  2012           35  68  16   0.0  85.3  10.0      17   4.9   9.9      5.3        fire        1.0             35\n",
      "146   25      6  2012           34  70  16   0.0  86.0  12.8    25.6   5.4  12.7      6.7        fire        1.0             34\n",
      "147   26      6  2012           36  62  16   0.0  87.8  16.5    34.5   7.0  16.4      9.5        fire        1.0             36\n",
      "148   27      6  2012           36  55  15   0.0  89.1  20.9    43.3   8.0  20.8       12        fire        1.0             36\n",
      "149   28      6  2012           37  37  13   0.0  92.5  27.2    52.4  11.7  27.1     18.4        fire        1.0             37\n",
      "150   29      6  2012           37  36  13   0.6  86.2  17.9    36.7   4.8  17.8      7.2        fire        1.0             37\n",
      "151   30      6  2012           34  42  15   1.7  79.7  12.0     8.5   2.2  11.5      2.2  not fire          1.0             34\n",
      "152    1      7  2012           28  58  18   2.2  63.7   3.2     8.5   1.2   3.3      0.5    not fire        1.0             28\n",
      "153    2      7  2012           33  48  16   0.0  87.6   7.9    17.8   6.8   7.8      6.4        fire        1.0             33\n",
      "154    3      7  2012           34  56  17   0.1  84.7   9.7    27.3   4.7  10.3      5.2        fire        1.0             34\n",
      "155    4      7  2012           34  58  18   0.0  88.0  13.6    36.8   8.0  14.1      9.9        fire        1.0             34\n",
      "156    5      7  2012           34  45  18   0.0  90.5  18.7    46.4  11.3  18.7       15        fire        1.0             34\n",
      "157    6      7  2012           35  42  15   0.3  84.7  15.5    45.1   4.3  16.7      6.3        fire        1.0             35\n",
      "158    7      7  2012           38  43  13   0.5  85.0  13.0    35.4   4.1  13.7      5.2        fire        1.0             38\n",
      "159    8      7  2012           35  47  18   6.0  80.8   9.8     9.7   3.1   9.4        3        fire        1.0             35\n",
      "160    9      7  2012           36  43  15   1.9  82.3   9.4     9.9   3.2   9.0      3.1        fire        1.0             36\n",
      "161   10      7  2012           34  51  16   3.8  77.5   8.0     9.5   2.0   7.7      1.3    not fire        1.0             34\n",
      "162   11      7  2012           34  56  15   2.9  74.8   7.1     9.5   1.6   6.8      0.8    not fire        1.0             34\n",
      "163   12      7  2012           36  44  13   0.0  90.1  12.6    19.4   8.3  12.5      9.6        fire        1.0             36\n",
      "164   13      7  2012           39  45  13   0.6  85.2  11.3    10.4   4.2  10.9      4.7        fire        1.0             39\n",
      "165   14      7  2012           37  37  18   0.2  88.9  12.9  14.6 9  12.5  10.4  fire               NaN     1.0             37\n",
      "166   15      7  2012           34  45  17   0.0  90.5  18.0    24.1  10.9  17.7     14.1        fire        1.0             34\n",
      "167   16      7  2012           31  83  17   0.0  84.5  19.4    33.1   4.7  19.2      7.3        fire        1.0             31\n",
      "168   17      7  2012           32  81  17   0.0  84.6  21.1    42.3   4.7  20.9      7.7        fire        1.0             32\n",
      "169   18      7  2012           33  68  15   0.0  86.1  23.9    51.6   5.2  23.9      9.1        fire        1.0             33\n",
      "170   19      7  2012           34  58  16   0.0  88.1  27.8    61.1   7.3  27.7       13        fire        1.0             34\n",
      "171   20      7  2012           36  50  16   0.0  89.9  32.7      71   9.5  32.6     17.3        fire        1.0             36\n",
      "172   21      7  2012           36  29  18   0.0  93.9  39.6    80.6  18.5  39.5       30        fire        1.0             36\n",
      "173   22      7  2012           32  48  18   0.0  91.5  44.2    90.1  13.2  44.0     25.4        fire        1.0             32\n",
      "174   23      7  2012           31  71  17   0.0  87.3  46.6      99   6.9  46.5     16.3        fire        1.0             31\n",
      "175   24      7  2012           33  63  17   1.1  72.8  20.9    56.6   1.6  21.7      2.5    not fire        1.0             33\n",
      "176   25      7  2012           39  64   9   1.2  73.8  11.7    15.9   1.1  11.4      0.7    not fire        1.0             39\n",
      "177   26      7  2012           35  58  10   0.2  78.3  10.8    19.7   1.6  10.7        1    not fire        1.0             35\n",
      "178   27      7  2012           29  87  18   0.0  80.0  11.8    28.3   2.8  11.8      3.2    not fire        1.0             29\n",
      "179   28      7  2012           33  57  16   0.0  87.5  15.7    37.6   6.7  15.7        9        fire        1.0             33\n",
      "180   29      7  2012           34  59  16   0.0  88.1  19.5    47.2   7.4  19.5     10.9        fire        1.0             34\n",
      "181   30      7  2012           36  56  16   0.0  88.9  23.8    57.1   8.2  23.8     13.2        fire        1.0             36\n",
      "182   31      7  2012           37  55  15   0.0  89.3  28.3    67.2   8.3  28.3     14.5        fire        1.0             37\n",
      "183    1      8  2012           38  52  14   0.0  78.3   4.4    10.5   2.0   4.4      0.8    not fire        1.0             38\n",
      "184    2      8  2012           40  34  14   0.0  93.3  10.8    21.4  13.8  10.6     13.5        fire        1.0             40\n",
      "185    3      8  2012           39  33  17   0.0  93.7  17.1    32.1  17.2  16.9     19.5        fire        1.0             39\n",
      "186    4      8  2012           38  35  15   0.0  93.8  23.0    42.7  15.7  22.9     20.9        fire        1.0             38\n",
      "187    5      8  2012           34  42  17   0.1  88.3  23.6    52.5  19.0  23.5     12.6        fire        1.0             34\n",
      "188    6      8  2012           30  54  14   3.1  70.5  11.0     9.1   1.3  10.5      0.8    not fire        1.0             30\n",
      "189    7      8  2012           34  63  13   2.9  69.7   7.2     9.8   1.2   6.9      0.6    not fire        1.0             34\n",
      "190    8      8  2012           37  56  11   0.0  87.4  11.2    20.2   5.2  11.0      5.9        fire        1.0             37\n",
      "191    9      8  2012           39  43  12   0.0  91.7  16.5    30.9   9.6  16.4     12.7        fire        1.0             39\n",
      "192   10      8  2012           39  39  15   0.2  89.3  15.8    35.4   8.2  15.8     10.7        fire        1.0             39\n",
      "193   11      8  2012           40  31  15   0.0  94.2  22.5    46.3  16.6  22.4     21.6        fire        1.0             40\n",
      "194   12      8  2012           39  21  17   0.4  93.0  18.4    41.5  15.5  18.4     18.8        fire        1.0             39\n",
      "195   13      8  2012           35  34  16   0.2  88.3  16.9    45.1   7.5  17.5     10.5        fire        1.0             35\n",
      "196   14      8  2012           37  40  13   0.0  91.9  22.3    55.5  10.8  22.3     15.7        fire        1.0             37\n",
      "197   15      8  2012           35  46  13   0.3  83.9  16.9    54.2   3.5  19.0      5.5        fire        1.0             35\n",
      "198   16      8  2012           40  41  10   0.1  92.0  22.6    65.1   9.5  24.2     14.8        fire        1.0             40\n",
      "199   17      8  2012           42  24   9   0.0  96.0  30.3    76.4  15.7  30.4       24        fire        1.0             42\n",
      "200   18      8  2012           37  37  14   0.0  94.3  35.9    86.8  16.0  35.9     26.3        fire        1.0             37\n",
      "201   19      8  2012           35  66  15   0.1  82.7  32.7    96.8   3.3  35.5      7.7        fire        1.0             35\n",
      "202   20      8  2012           36  81  15   0.0  83.7  34.4     107   3.8  38.1        9        fire        1.0             36\n",
      "203   21      8  2012           36  71  15   0.0  86.0  36.9   117.1   5.1  41.3     12.2        fire        1.0             36\n",
      "204   22      8  2012           37  53  14   0.0  89.5  41.1   127.5   8.0  45.5     18.1        fire        1.0             37\n",
      "205   23      8  2012           36  43  16   0.0  91.2  46.1   137.7  11.5  50.2     24.5        fire        1.0             36\n",
      "206   24      8  2012           35  38  15   0.0  92.1  51.3   147.7  12.2  54.9     26.9        fire        1.0             35\n",
      "207   25      8  2012           34  40  18   0.0  92.1  56.3   157.5  14.3  59.5     31.1        fire        1.0             34\n",
      "208   26      8  2012           33  37  16   0.0  92.2  61.3   167.2  13.1  64.0     30.3        fire        1.0             33\n",
      "209   27      8  2012           36  54  14   0.0  91.0  65.9   177.3  10.0  68.0     26.1        fire        1.0             36\n",
      "210   28      8  2012           35  56  14   0.4  79.2  37.0     166   2.1  30.6      6.1    not fire        1.0             35\n",
      "211   29      8  2012           35  53  17   0.5  80.2  20.7   149.2   2.7  30.6      5.9        fire        1.0             35\n",
      "212   30      8  2012           34  49  15   0.0  89.2  24.8   159.1   8.1  35.7       16        fire        1.0             34\n",
      "213   31      8  2012           30  59  19   0.0  89.1  27.8   168.2   9.8  39.3     19.4        fire        1.0             30\n",
      "214    1      9  2012           29  86  16   0.0  37.9   0.9     8.2   0.1   1.4        0    not fire        1.0             29\n",
      "215    2      9  2012           28  67  19   0.0  75.4   2.9    16.3   2.0   4.0      0.8    not fire        1.0             28\n",
      "216    3      9  2012           28  75  16   0.0  82.2   4.4    24.3   3.3   6.0      2.5        fire        1.0             28\n",
      "217    4      9  2012           30  66  15   0.2  73.5   4.1    26.6   1.5   6.0      0.7    not fire        1.0             30\n",
      "218    5      9  2012           30  58  12   4.1  66.1   4.0     8.4   1.0   3.9      0.4    not fire        1.0             30\n",
      "219    6      9  2012           34  71  14   6.5  64.5   3.3     9.1   1.0   3.5      0.4    not fire        1.0             34\n",
      "220    7      9  2012           31  62  15   0.0  83.3   5.8    17.7   3.8   6.4      3.2        fire        1.0             31\n",
      "221    8      9  2012           30  88  14   0.0  82.5   6.6    26.1   3.0   8.1      2.7        fire        1.0             30\n",
      "222    9      9  2012           30  80  15   0.0  83.1   7.9    34.5   3.5  10.0      3.7        fire        1.0             30\n",
      "223   10      9  2012           29  74  15   1.1  59.5   4.7     8.2   0.8   4.6      0.3    not fire        1.0             29\n",
      "224   11      9  2012           30  73  14   0.0  79.2   6.5    16.6   2.1   6.6      1.2    not fire        1.0             30\n",
      "225   12      9  2012           31  72  14   0.0  84.2   8.3    25.2   3.8   9.1      3.9        fire        1.0             31\n",
      "226   13      9  2012           29  49  19   0.0  88.6  11.5    33.4   9.1  12.4     10.3        fire        1.0             29\n",
      "227   14      9  2012           28  81  15   0.0  84.6  12.6    41.5   4.3  14.3      5.7        fire        1.0             28\n",
      "228   15      9  2012           32  51  13   0.0  88.7  16.0    50.2   6.9  17.8      9.8        fire        1.0             32\n",
      "229   16      9  2012           33  26  13   0.0  93.9  21.2    59.2  14.2  22.4     19.3        fire        1.0             33\n",
      "230   17      9  2012           34  44  12   0.0  92.5  25.2    63.3  11.2  26.2     17.5        fire        1.0             34\n",
      "231   18      9  2012           36  33  13   0.1  90.6  25.8    77.8   9.0  28.2     15.4        fire        1.0             36\n",
      "232   19      9  2012           29  41   8   0.1  83.9  24.9      86   2.7  28.9      5.6        fire        1.0             29\n",
      "233   20      9  2012           34  58  13   0.2  79.5  18.7      88   2.1  24.4      3.8    not fire        1.0             34\n",
      "234   21      9  2012           35  34  17   0.0  92.2  23.6    97.3  13.8  29.4     21.6        fire        1.0             35\n",
      "235   22      9  2012           33  64  13   0.0  88.9  26.1   106.3   7.1  32.4     13.7        fire        1.0             33\n",
      "236   23      9  2012           35  56  14   0.0  89.0  29.4   115.6   7.5  36.0     15.2        fire        1.0             35\n",
      "237   24      9  2012           26  49   6   2.0  61.3  11.9    28.1   0.6  11.9      0.4    not fire        1.0             26\n",
      "238   25      9  2012           28  70  15   0.0  79.9  13.8    36.1   2.4  14.1        3    not fire        1.0             28\n",
      "239   26      9  2012           30  65  14   0.0  85.4  16.0    44.5   4.5  16.9      6.5        fire        1.0             30\n",
      "240   27      9  2012           28  87  15   4.4  41.1   6.5       8   0.1   6.2        0    not fire        1.0             28\n",
      "241   28      9  2012           27  87  29   0.5  45.9   3.5     7.9   0.4   3.4      0.2    not fire        1.0             27\n",
      "242   29      9  2012           24  54  18   0.1  79.7   4.3    15.2   1.7   5.1      0.7    not fire        1.0             24\n",
      "243   30      9  2012           24  64  15   0.2  67.3   3.8    16.5   1.2   4.8      0.5   not fire         1.0             24\n"
     ]
    }
   ],
   "source": [
    "print(df.to_string())"
   ]
  },
  {
   "cell_type": "markdown",
   "id": "d771fcf1",
   "metadata": {},
   "source": [
    "# Null values"
   ]
  },
  {
   "cell_type": "code",
   "execution_count": 96,
   "id": "78f5cfa5",
   "metadata": {},
   "outputs": [
    {
     "data": {
      "text/plain": [
       "day              0\n",
       "month            0\n",
       "year             0\n",
       "Temperature      0\n",
       "RH               0\n",
       "Ws               0\n",
       "Rain             0\n",
       "FFMC             0\n",
       "DMC              0\n",
       "DC               0\n",
       "ISI              0\n",
       "BUI              0\n",
       "FWI              0\n",
       "Classes          1\n",
       "region           0\n",
       "Temperature      0\n",
       "dtype: int64"
      ]
     },
     "execution_count": 96,
     "metadata": {},
     "output_type": "execute_result"
    }
   ],
   "source": [
    "df.isnull().sum()"
   ]
  },
  {
   "cell_type": "markdown",
   "id": "1beabcc5",
   "metadata": {},
   "source": [
    "# Observation"
   ]
  },
  {
   "cell_type": "markdown",
   "id": "e1731dcb",
   "metadata": {},
   "source": [
    "There is one null value in dataset"
   ]
  },
  {
   "cell_type": "markdown",
   "id": "8bfe9561",
   "metadata": {},
   "source": [
    "# Numerical and Countineous features"
   ]
  },
  {
   "cell_type": "code",
   "execution_count": 97,
   "id": "158de7a3",
   "metadata": {},
   "outputs": [
    {
     "name": "stdout",
     "output_type": "stream",
     "text": [
      "['day', 'month', 'year', 'Temperature', 'RH', 'Ws', 'Rain', 'FFMC', 'DMC', 'ISI', 'BUI', 'region', 'Temperature  ']\n"
     ]
    }
   ],
   "source": [
    "\n",
    "num_values=[val for val in df.columns if df[val].dtype!='O']\n",
    "print(num_values)"
   ]
  },
  {
   "cell_type": "code",
   "execution_count": 105,
   "id": "db4ef4ab",
   "metadata": {},
   "outputs": [
    {
     "data": {
      "text/plain": [
       "day               31\n",
       "month              4\n",
       "year               1\n",
       "Temperature       19\n",
       "RH                62\n",
       "Ws                18\n",
       "Rain              39\n",
       "FFMC             173\n",
       "DMC              166\n",
       "ISI              106\n",
       "BUI              174\n",
       "region             2\n",
       "Temperature       19\n",
       "dtype: int64"
      ]
     },
     "execution_count": 105,
     "metadata": {},
     "output_type": "execute_result"
    }
   ],
   "source": [
    "\n",
    "#fetching uniue values\n",
    "df[num_values].nunique()"
   ]
  },
  {
   "cell_type": "code",
   "execution_count": 106,
   "id": "bb52cf89",
   "metadata": {},
   "outputs": [
    {
     "name": "stdout",
     "output_type": "stream",
     "text": [
      "['DC', 'FWI', 'Classes']\n"
     ]
    }
   ],
   "source": [
    "#fetching categorical values\n",
    "cat_values=[val for val in df.columns if df[val].dtypes=='O']\n",
    "print(cat_values)\n"
   ]
  },
  {
   "cell_type": "code",
   "execution_count": 108,
   "id": "b419bb48",
   "metadata": {},
   "outputs": [
    {
     "name": "stdout",
     "output_type": "stream",
     "text": [
      "DC     region\n",
      "10     0.0       2\n",
      "10.2   0.0       1\n",
      "10.4   1.0       1\n",
      "10.5   1.0       1\n",
      "100.7  0.0       1\n",
      "                ..\n",
      "94.7   0.0       1\n",
      "96.8   1.0       1\n",
      "97.3   1.0       1\n",
      "98.6   0.0       1\n",
      "99     1.0       1\n",
      "Name: region, Length: 213, dtype: int64\n",
      "FWI      region\n",
      "0        0.0       7\n",
      "         1.0       2\n",
      "0.1      0.0       7\n",
      "         1.0       2\n",
      "0.2      0.0       3\n",
      "                  ..\n",
      "9.7      0.0       1\n",
      "9.8      1.0       1\n",
      "9.9      0.0       1\n",
      "         1.0       1\n",
      "fire     1.0       1\n",
      "Name: region, Length: 162, dtype: int64\n",
      "Classes        region\n",
      "fire           0.0        4\n",
      "fire           0.0        2\n",
      "fire           1.0       78\n",
      "               0.0       53\n",
      "not fire       0.0        2\n",
      "not fire       0.0        1\n",
      "not fire       0.0       60\n",
      "               1.0       41\n",
      "not fire       1.0        1\n",
      "not fire       1.0        1\n",
      "Name: region, dtype: int64\n"
     ]
    }
   ],
   "source": [
    "#fetching different categories in cat_values\n",
    "\n",
    "for i in cat_values:\n",
    "    print(df.groupby(i)['region'].value_counts())"
   ]
  },
  {
   "cell_type": "code",
   "execution_count": 109,
   "id": "0e415c9e",
   "metadata": {},
   "outputs": [
    {
     "data": {
      "text/plain": [
       "<AxesSubplot:xlabel='Classes', ylabel='count'>"
      ]
     },
     "execution_count": 109,
     "metadata": {},
     "output_type": "execute_result"
    },
    {
     "data": {
      "image/png": "[encoded data removed]",
      "text/plain": [
       "<Figure size 432x288 with 1 Axes>"
      ]
     },
     "metadata": {
      "needs_background": "light"
     },
     "output_type": "display_data"
    }
   ],
   "source": [
    "#plotting graph for different categories\n",
    "sns.countplot(data=df,x='Classes',hue='region')"
   ]
  },
  {
   "cell_type": "markdown",
   "id": "ebfc84a3",
   "metadata": {},
   "source": [
    "# Discrete numerical features"
   ]
  },
  {
   "cell_type": "code",
   "execution_count": 110,
   "id": "d6ad78ac",
   "metadata": {},
   "outputs": [
    {
     "data": {
      "text/plain": [
       "['day', 'month', 'year', 'Temperature', 'Ws', 'region', 'Temperature  ']"
      ]
     },
     "execution_count": 110,
     "metadata": {},
     "output_type": "execute_result"
    }
   ],
   "source": [
    "discrete_feature=[i for i in num_values if len(df[i].unique())<35]\n",
    "discrete_feature"
   ]
  },
  {
   "cell_type": "markdown",
   "id": "2de5a25f",
   "metadata": {},
   "source": [
    "# Discrete numerical fetaures vs target features"
   ]
  },
  {
   "cell_type": "code",
   "execution_count": 112,
   "id": "edd362eb",
   "metadata": {},
   "outputs": [
    {
     "data": {
      "image/png": "[encoded data removed]",
      "text/plain": [
       "<Figure size 432x288 with 1 Axes>"
      ]
     },
     "metadata": {
      "needs_background": "light"
     },
     "output_type": "display_data"
    },
    {
     "data": {
      "image/png": "[encoded data removed]",
      "text/plain": [
       "<Figure size 432x288 with 1 Axes>"
      ]
     },
     "metadata": {
      "needs_background": "light"
     },
     "output_type": "display_data"
    },
    {
     "data": {
      "image/png": "[encoded data removed]",
      "text/plain": [
       "<Figure size 432x288 with 1 Axes>"
      ]
     },
     "metadata": {
      "needs_background": "light"
     },
     "output_type": "display_data"
    },
    {
     "data": {
      "image/png": "[encoded data removed]",
      "text/plain": [
       "<Figure size 432x288 with 1 Axes>"
      ]
     },
     "metadata": {
      "needs_background": "light"
     },
     "output_type": "display_data"
    },
    {
     "data": {
      "image/png": "[encoded data removed]",
      "text/plain": [
       "<Figure size 432x288 with 1 Axes>"
      ]
     },
     "metadata": {
      "needs_background": "light"
     },
     "output_type": "display_data"
    },
    {
     "data": {
      "image/png": "[encoded data removed]",
      "text/plain": [
       "<Figure size 432x288 with 1 Axes>"
      ]
     },
     "metadata": {
      "needs_background": "light"
     },
     "output_type": "display_data"
    },
    {
     "data": {
      "image/png": "[encoded data removed]",
      "text/plain": [
       "<Figure size 432x288 with 1 Axes>"
      ]
     },
     "metadata": {
      "needs_background": "light"
     },
     "output_type": "display_data"
    }
   ],
   "source": [
    "for i in discrete_feature:\n",
    "    sns.countplot(data=df,x=i,hue='Classes')\n",
    "    plt.show()"
   ]
  },
  {
   "cell_type": "markdown",
   "id": "40a13416",
   "metadata": {},
   "source": [
    "# Countinuous numerical features"
   ]
  },
  {
   "cell_type": "code",
   "execution_count": 114,
   "id": "395a7a28",
   "metadata": {},
   "outputs": [
    {
     "name": "stdout",
     "output_type": "stream",
     "text": [
      "['RH', 'Rain', 'FFMC', 'DMC', 'ISI', 'BUI']\n"
     ]
    }
   ],
   "source": [
    "continues_feature=[i for i in num_values if i not in discrete_feature]\n",
    "print(continues_feature)"
   ]
  },
  {
   "cell_type": "markdown",
   "id": "6016a3ac",
   "metadata": {},
   "source": [
    "# Distribution of Countinuous numerical features"
   ]
  },
  {
   "cell_type": "code",
   "execution_count": 115,
   "id": "4839efc7",
   "metadata": {},
   "outputs": [
    {
     "data": {
      "image/png": "[encoded data removed]",
      "text/plain": [
       "<Figure size 432x288 with 1 Axes>"
      ]
     },
     "metadata": {
      "needs_background": "light"
     },
     "output_type": "display_data"
    },
    {
     "data": {
      "image/png": "[encoded data removed]",
      "text/plain": [
       "<Figure size 432x288 with 1 Axes>"
      ]
     },
     "metadata": {
      "needs_background": "light"
     },
     "output_type": "display_data"
    },
    {
     "data": {
      "image/png": "[encoded data removed]",
      "text/plain": [
       "<Figure size 432x288 with 1 Axes>"
      ]
     },
     "metadata": {
      "needs_background": "light"
     },
     "output_type": "display_data"
    },
    {
     "data": {
      "image/png": "[encoded data removed]",
      "text/plain": [
       "<Figure size 432x288 with 1 Axes>"
      ]
     },
     "metadata": {
      "needs_background": "light"
     },
     "output_type": "display_data"
    },
    {
     "data": {
      "image/png": "[encoded data removed]",
      "text/plain": [
       "<Figure size 432x288 with 1 Axes>"
      ]
     },
     "metadata": {
      "needs_background": "light"
     },
     "output_type": "display_data"
    },
    {
     "data": {
      "image/png": "[encoded data removed]",
      "text/plain": [
       "<Figure size 432x288 with 1 Axes>"
      ]
     },
     "metadata": {
      "needs_background": "light"
     },
     "output_type": "display_data"
    }
   ],
   "source": [
    "for i in continues_feature:\n",
    "    sns.histplot(data=df,x=i,kde=True,color='violet')\n",
    "    plt.show()"
   ]
  },
  {
   "cell_type": "markdown",
   "id": "0d78cc9e",
   "metadata": {},
   "source": [
    "# Dealing with outliers"
   ]
  },
  {
   "cell_type": "code",
   "execution_count": 116,
   "id": "fb78060a",
   "metadata": {},
   "outputs": [
    {
     "data": {
      "image/png": "[encoded data removed]",
      "text/plain": [
       "<Figure size 432x288 with 1 Axes>"
      ]
     },
     "metadata": {
      "needs_background": "light"
     },
     "output_type": "display_data"
    },
    {
     "data": {
      "image/png": "[encoded data removed]",
      "text/plain": [
       "<Figure size 432x288 with 1 Axes>"
      ]
     },
     "metadata": {
      "needs_background": "light"
     },
     "output_type": "display_data"
    },
    {
     "data": {
      "image/png": "[encoded data removed]",
      "text/plain": [
       "<Figure size 432x288 with 1 Axes>"
      ]
     },
     "metadata": {
      "needs_background": "light"
     },
     "output_type": "display_data"
    },
    {
     "data": {
      "image/png": "[encoded data removed]",
      "text/plain": [
       "<Figure size 432x288 with 1 Axes>"
      ]
     },
     "metadata": {
      "needs_background": "light"
     },
     "output_type": "display_data"
    },
    {
     "data": {
      "image/png": "[encoded data removed]",
      "text/plain": [
       "<Figure size 432x288 with 1 Axes>"
      ]
     },
     "metadata": {
      "needs_background": "light"
     },
     "output_type": "display_data"
    },
    {
     "data": {
      "image/png": "[encoded data removed]",
      "text/plain": [
       "<Figure size 432x288 with 1 Axes>"
      ]
     },
     "metadata": {
      "needs_background": "light"
     },
     "output_type": "display_data"
    },
    {
     "data": {
      "image/png": "[encoded data removed]",
      "text/plain": [
       "<Figure size 432x288 with 1 Axes>"
      ]
     },
     "metadata": {
      "needs_background": "light"
     },
     "output_type": "display_data"
    },
    {
     "data": {
      "image/png": "[encoded data removed]",
      "text/plain": [
       "<Figure size 432x288 with 1 Axes>"
      ]
     },
     "metadata": {
      "needs_background": "light"
     },
     "output_type": "display_data"
    },
    {
     "data": {
      "image/png": "[encoded data removed]",
      "text/plain": [
       "<Figure size 432x288 with 1 Axes>"
      ]
     },
     "metadata": {
      "needs_background": "light"
     },
     "output_type": "display_data"
    }
   ],
   "source": [
    "for i in[i for i in num_values if i not in ['day','month','year','region']]:\n",
    "    sns.boxplot(data=df,y=i,color='m')\n",
    "    plt.title(i)\n",
    "    plt.show()"
   ]
  },
  {
   "cell_type": "code",
   "execution_count": null,
   "id": "ee09b3aa",
   "metadata": {},
   "outputs": [],
   "source": []
  }
 ],
 "metadata": {
  "kernelspec": {
   "display_name": "Python 3 (ipykernel)",
   "language": "python",
   "name": "python3"
  },
  "language_info": {
   "codemirror_mode": {
    "name": "ipython",
    "version": 3
   },
   "file_extension": ".py",
   "mimetype": "text/x-python",
   "name": "python",
   "nbconvert_exporter": "python",
   "pygments_lexer": "ipython3",
   "version": "3.9.7"
  }
 },
 "nbformat": 4,
 "nbformat_minor": 5
}
